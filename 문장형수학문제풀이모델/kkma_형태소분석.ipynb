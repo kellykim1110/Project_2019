{
 "cells": [
  {
   "cell_type": "code",
   "execution_count": 1,
   "metadata": {},
   "outputs": [],
   "source": [
    "import pandas as pd"
   ]
  },
  {
   "cell_type": "code",
   "execution_count": 2,
   "metadata": {},
   "outputs": [],
   "source": [
    "import platform\n",
    "\n",
    "import numpy as np\n",
    "import pandas as pd\n",
    "import matplotlib.pyplot as plt\n",
    "import seaborn as sns\n",
    "# sns.set()\n",
    "\n",
    "from matplotlib import font_manager, rc\n",
    "if platform.system() == 'Darwin':\n",
    "    rc('font', family='AppleGothic')\n",
    "elif platform.system() == 'Windows':\n",
    "    font_name = font_manager.FontProperties(fname=\"C:/Windows/Fonts/malgun.ttf\").get_name()\n",
    "    rc('font', family=font_name)\n",
    "else:\n",
    "    print(\"It's unknown system. Hangul fonts are not supported!\")\n",
    "    \n",
    "# plt.rcParams['axes.unicode_minus'] = False\n",
    "plt.rcParams[\"figure.figsize\"] = [12,6]\n",
    "\n",
    "%matplotlib inline"
   ]
  },
  {
   "cell_type": "code",
   "execution_count": 42,
   "metadata": {},
   "outputs": [
    {
     "data": {
      "text/html": [
       "<div>\n",
       "<style scoped>\n",
       "    .dataframe tbody tr th:only-of-type {\n",
       "        vertical-align: middle;\n",
       "    }\n",
       "\n",
       "    .dataframe tbody tr th {\n",
       "        vertical-align: top;\n",
       "    }\n",
       "\n",
       "    .dataframe thead th {\n",
       "        text-align: right;\n",
       "    }\n",
       "</style>\n",
       "<table border=\"1\" class=\"dataframe\">\n",
       "  <thead>\n",
       "    <tr style=\"text-align: right;\">\n",
       "      <th></th>\n",
       "      <th>질문</th>\n",
       "      <th>수식풀이</th>\n",
       "    </tr>\n",
       "  </thead>\n",
       "  <tbody>\n",
       "    <tr>\n",
       "      <th>0</th>\n",
       "      <td>준기는 동화책을 어제는 58쪽，오늘은 54쪽 읽었습니다. 준기는 어제와 오늘 동화책...</td>\n",
       "      <td>58+54=[112]</td>\n",
       "    </tr>\n",
       "    <tr>\n",
       "      <th>1</th>\n",
       "      <td>곤충관에서는 곤충에게 먹이를 아침에 47봉지，점심에 69봉지를 주었습니다. 아침과 ...</td>\n",
       "      <td>47+69=[116]</td>\n",
       "    </tr>\n",
       "    <tr>\n",
       "      <th>2</th>\n",
       "      <td>나무 아래에 기린이 7마리 있습니다. 5마리가 더 온다면 모두 몇 마리인지 덧셈식을...</td>\n",
       "      <td>7+5=[12]</td>\n",
       "    </tr>\n",
       "    <tr>\n",
       "      <th>3</th>\n",
       "      <td>연수는 지금까지 훌라후프 8개를 뛰어넘었습니다. 연수가 6개를 더 뛰어넘으면 모두 ...</td>\n",
       "      <td>8+6=[14]</td>\n",
       "    </tr>\n",
       "    <tr>\n",
       "      <th>4</th>\n",
       "      <td>아름이는 사탕 15개를 가진 다운이보다 사탕이 13개 더 많습니다. 아름이가 가진 ...</td>\n",
       "      <td>15+13=[28]</td>\n",
       "    </tr>\n",
       "  </tbody>\n",
       "</table>\n",
       "</div>"
      ],
      "text/plain": [
       "                                                  질문         수식풀이\n",
       "0  준기는 동화책을 어제는 58쪽，오늘은 54쪽 읽었습니다. 준기는 어제와 오늘 동화책...  58+54=[112]\n",
       "1  곤충관에서는 곤충에게 먹이를 아침에 47봉지，점심에 69봉지를 주었습니다. 아침과 ...  47+69=[116]\n",
       "2  나무 아래에 기린이 7마리 있습니다. 5마리가 더 온다면 모두 몇 마리인지 덧셈식을...     7+5=[12]\n",
       "3  연수는 지금까지 훌라후프 8개를 뛰어넘었습니다. 연수가 6개를 더 뛰어넘으면 모두 ...     8+6=[14]\n",
       "4  아름이는 사탕 15개를 가진 다운이보다 사탕이 13개 더 많습니다. 아름이가 가진 ...   15+13=[28]"
      ]
     },
     "execution_count": 42,
     "metadata": {},
     "output_type": "execute_result"
    }
   ],
   "source": [
    "#더하기\n",
    "df1=pd.read_csv(\"math_data.csv\")\n",
    "df1.head()"
   ]
  },
  {
   "cell_type": "code",
   "execution_count": 44,
   "metadata": {},
   "outputs": [
    {
     "data": {
      "text/html": [
       "<div>\n",
       "<style scoped>\n",
       "    .dataframe tbody tr th:only-of-type {\n",
       "        vertical-align: middle;\n",
       "    }\n",
       "\n",
       "    .dataframe tbody tr th {\n",
       "        vertical-align: top;\n",
       "    }\n",
       "\n",
       "    .dataframe thead th {\n",
       "        text-align: right;\n",
       "    }\n",
       "</style>\n",
       "<table border=\"1\" class=\"dataframe\">\n",
       "  <thead>\n",
       "    <tr style=\"text-align: right;\">\n",
       "      <th></th>\n",
       "      <th>질문</th>\n",
       "      <th>수식풀이</th>\n",
       "    </tr>\n",
       "  </thead>\n",
       "  <tbody>\n",
       "    <tr>\n",
       "      <th>115</th>\n",
       "      <td>그림과 같이 48을 넣었더니 91이 나왔습니다.  29를 넣으면 얼마가 나오겠습니까?</td>\n",
       "      <td>48+[43]=91 91-48=[43] 29+43=[72]</td>\n",
       "    </tr>\n",
       "    <tr>\n",
       "      <th>116</th>\n",
       "      <td>그림과 같이 136을 넣었더니 278이 나왔습니다.  543을 넣으면 얼마가 나오겠...</td>\n",
       "      <td>136+[142]=278 278-136=[142] 543+142=[685]</td>\n",
       "    </tr>\n",
       "    <tr>\n",
       "      <th>117</th>\n",
       "      <td>그림과 같이 상자에 69를 넣었더니 77이 나왔습니다.  이 상자에 47을 넣으면 ...</td>\n",
       "      <td>69+[8]=77 77-69=[8] 47+8=[55]</td>\n",
       "    </tr>\n",
       "    <tr>\n",
       "      <th>118</th>\n",
       "      <td>그림과 같이 상자에 35를 넣었더니 83이 나왔습니다.  이 상자에 27을 넣으면 ...</td>\n",
       "      <td>35+[48]=83 83-35=[48] 27+48=[75]</td>\n",
       "    </tr>\n",
       "    <tr>\n",
       "      <th>119</th>\n",
       "      <td>그림과 같이 상자에 189를 넣었더니 385가 나왔습니다.  이 상자에 362를 넣...</td>\n",
       "      <td>189+[196]=385 385-189=[196] 362+196=[558]</td>\n",
       "    </tr>\n",
       "  </tbody>\n",
       "</table>\n",
       "</div>"
      ],
      "text/plain": [
       "                                                    질문  \\\n",
       "115    그림과 같이 48을 넣었더니 91이 나왔습니다.  29를 넣으면 얼마가 나오겠습니까?   \n",
       "116  그림과 같이 136을 넣었더니 278이 나왔습니다.  543을 넣으면 얼마가 나오겠...   \n",
       "117  그림과 같이 상자에 69를 넣었더니 77이 나왔습니다.  이 상자에 47을 넣으면 ...   \n",
       "118  그림과 같이 상자에 35를 넣었더니 83이 나왔습니다.  이 상자에 27을 넣으면 ...   \n",
       "119  그림과 같이 상자에 189를 넣었더니 385가 나왔습니다.  이 상자에 362를 넣...   \n",
       "\n",
       "                                          수식풀이  \n",
       "115           48+[43]=91 91-48=[43] 29+43=[72]  \n",
       "116  136+[142]=278 278-136=[142] 543+142=[685]  \n",
       "117              69+[8]=77 77-69=[8] 47+8=[55]  \n",
       "118           35+[48]=83 83-35=[48] 27+48=[75]  \n",
       "119  189+[196]=385 385-189=[196] 362+196=[558]  "
      ]
     },
     "execution_count": 44,
     "metadata": {},
     "output_type": "execute_result"
    }
   ],
   "source": [
    "df1.tail()"
   ]
  },
  {
   "cell_type": "code",
   "execution_count": 45,
   "metadata": {},
   "outputs": [],
   "source": [
    "df2=pd.read_excel(\"math_data.xlsx\",sheet_name=1)\n",
    "df3=pd.read_excel(\"math_data.xlsx\",sheet_name=2)\n",
    "df4=pd.read_excel(\"math_data.xlsx\",sheet_name=3)\n",
    "df5=pd.read_excel(\"math_data.xlsx\",sheet_name=4)"
   ]
  },
  {
   "cell_type": "code",
   "execution_count": 46,
   "metadata": {},
   "outputs": [],
   "source": [
    "from konlpy.tag import Kkma\n",
    "kkma = Kkma()"
   ]
  },
  {
   "cell_type": "code",
   "execution_count": 49,
   "metadata": {},
   "outputs": [],
   "source": [
    "df2['형태소'] = ''\n",
    "df3['형태소'] = ''\n",
    "df4['형태소'] = ''\n",
    "df5['형태소'] = ''\n",
    "for i in range(0, len(df2)):\n",
    "    df2['형태소'][i] = kkma.pos(df2[\"질문\"][i])\n",
    "    \n",
    "for i in range(0, len(df3)):\n",
    "    df3['형태소'][i] = kkma.pos(df3[\"질문\"][i])\n",
    "    \n",
    "for i in range(0, len(df4)):\n",
    "    df4['형태소'][i] = kkma.pos(df4[\"질문\"][i])\n",
    "    \n",
    "for i in range(0, len(df5)):\n",
    "    df5['형태소'][i] = kkma.pos(df5[\"질문\"][i])"
   ]
  },
  {
   "cell_type": "code",
   "execution_count": 53,
   "metadata": {},
   "outputs": [
    {
     "data": {
      "text/html": [
       "<div>\n",
       "<style scoped>\n",
       "    .dataframe tbody tr th:only-of-type {\n",
       "        vertical-align: middle;\n",
       "    }\n",
       "\n",
       "    .dataframe tbody tr th {\n",
       "        vertical-align: top;\n",
       "    }\n",
       "\n",
       "    .dataframe thead th {\n",
       "        text-align: right;\n",
       "    }\n",
       "</style>\n",
       "<table border=\"1\" class=\"dataframe\">\n",
       "  <thead>\n",
       "    <tr style=\"text-align: right;\">\n",
       "      <th></th>\n",
       "      <th>질문</th>\n",
       "      <th>수식풀이</th>\n",
       "      <th>형태소</th>\n",
       "    </tr>\n",
       "  </thead>\n",
       "  <tbody>\n",
       "    <tr>\n",
       "      <th>0</th>\n",
       "      <td>민호는 구슬을 57개 가지고 있습니다. 그런데 민호가 우혁이에게 구슬을 8개 주었더...</td>\n",
       "      <td>57-8+12=[61]</td>\n",
       "      <td>[(민호, NNG), (는, JX), (구슬, NNG), (을, JKO), (57,...</td>\n",
       "    </tr>\n",
       "    <tr>\n",
       "      <th>1</th>\n",
       "      <td>지선이는 사탕 23개를 동생이랑 나누어 가졌습니다.  동생이 3개를 더 가졌다면 지...</td>\n",
       "      <td>(23-3)÷2=[10]</td>\n",
       "      <td>[(지선, NNG), (이, JKS), (늘, VV), (ㄴ, ETD), (사탕, ...</td>\n",
       "    </tr>\n",
       "    <tr>\n",
       "      <th>2</th>\n",
       "      <td>수현이와 진영이는 사탕 19개를 나누어 먹었습니다.  수현이가 진영이보다 5개 더 ...</td>\n",
       "      <td>(19-5)÷2=[7]</td>\n",
       "      <td>[(수, NNB), (현, NNG), (이, JKS), (오, VV), (아, EC...</td>\n",
       "    </tr>\n",
       "    <tr>\n",
       "      <th>3</th>\n",
       "      <td>형진이와 진수는 색종이로 비행기를 17개 접었습니다.  형진이가 진수보다 3개 더 ...</td>\n",
       "      <td>(17-3)÷2=[7]</td>\n",
       "      <td>[(형, NNG), (진이, NNG), (와, JC), (진수, NNG), (는, ...</td>\n",
       "    </tr>\n",
       "    <tr>\n",
       "      <th>4</th>\n",
       "      <td>민기와 형진이는 선물로 받은 연필 17자루를 나누어 갖기로 하였습니다.  민기가 형...</td>\n",
       "      <td>(17-3)÷2=[7]</td>\n",
       "      <td>[(민, NNG), (기와, NNG), (형, NNG), (진이, NNG), (는,...</td>\n",
       "    </tr>\n",
       "  </tbody>\n",
       "</table>\n",
       "</div>"
      ],
      "text/plain": [
       "                                                  질문           수식풀이  \\\n",
       "0  민호는 구슬을 57개 가지고 있습니다. 그런데 민호가 우혁이에게 구슬을 8개 주었더...   57-8+12=[61]   \n",
       "1  지선이는 사탕 23개를 동생이랑 나누어 가졌습니다.  동생이 3개를 더 가졌다면 지...  (23-3)÷2=[10]   \n",
       "2  수현이와 진영이는 사탕 19개를 나누어 먹었습니다.  수현이가 진영이보다 5개 더 ...   (19-5)÷2=[7]   \n",
       "3  형진이와 진수는 색종이로 비행기를 17개 접었습니다.  형진이가 진수보다 3개 더 ...   (17-3)÷2=[7]   \n",
       "4  민기와 형진이는 선물로 받은 연필 17자루를 나누어 갖기로 하였습니다.  민기가 형...   (17-3)÷2=[7]   \n",
       "\n",
       "                                                 형태소  \n",
       "0  [(민호, NNG), (는, JX), (구슬, NNG), (을, JKO), (57,...  \n",
       "1  [(지선, NNG), (이, JKS), (늘, VV), (ㄴ, ETD), (사탕, ...  \n",
       "2  [(수, NNB), (현, NNG), (이, JKS), (오, VV), (아, EC...  \n",
       "3  [(형, NNG), (진이, NNG), (와, JC), (진수, NNG), (는, ...  \n",
       "4  [(민, NNG), (기와, NNG), (형, NNG), (진이, NNG), (는,...  "
      ]
     },
     "execution_count": 53,
     "metadata": {},
     "output_type": "execute_result"
    }
   ],
   "source": [
    "df5.head()"
   ]
  },
  {
   "cell_type": "code",
   "execution_count": 47,
   "metadata": {},
   "outputs": [],
   "source": [
    "df1['형태소'] = ''\n",
    "\n",
    "\n",
    "for i in range(0, len(df1)):\n",
    "    df1['형태소'][i] = kkma.pos(df1[\"질문\"][i])    "
   ]
  },
  {
   "cell_type": "code",
   "execution_count": 48,
   "metadata": {},
   "outputs": [
    {
     "data": {
      "text/html": [
       "<div>\n",
       "<style scoped>\n",
       "    .dataframe tbody tr th:only-of-type {\n",
       "        vertical-align: middle;\n",
       "    }\n",
       "\n",
       "    .dataframe tbody tr th {\n",
       "        vertical-align: top;\n",
       "    }\n",
       "\n",
       "    .dataframe thead th {\n",
       "        text-align: right;\n",
       "    }\n",
       "</style>\n",
       "<table border=\"1\" class=\"dataframe\">\n",
       "  <thead>\n",
       "    <tr style=\"text-align: right;\">\n",
       "      <th></th>\n",
       "      <th>질문</th>\n",
       "      <th>수식풀이</th>\n",
       "      <th>형태소</th>\n",
       "    </tr>\n",
       "  </thead>\n",
       "  <tbody>\n",
       "    <tr>\n",
       "      <th>0</th>\n",
       "      <td>준기는 동화책을 어제는 58쪽，오늘은 54쪽 읽었습니다. 준기는 어제와 오늘 동화책...</td>\n",
       "      <td>58+54=[112]</td>\n",
       "      <td>[(주, VV), (ㄴ, ETD), (길, VA), (는, ETD), (동화책, N...</td>\n",
       "    </tr>\n",
       "    <tr>\n",
       "      <th>1</th>\n",
       "      <td>곤충관에서는 곤충에게 먹이를 아침에 47봉지，점심에 69봉지를 주었습니다. 아침과 ...</td>\n",
       "      <td>47+69=[116]</td>\n",
       "      <td>[(곤충, NNG), (관, NNG), (에서, JKM), (는, JX), (곤충,...</td>\n",
       "    </tr>\n",
       "    <tr>\n",
       "      <th>2</th>\n",
       "      <td>나무 아래에 기린이 7마리 있습니다. 5마리가 더 온다면 모두 몇 마리인지 덧셈식을...</td>\n",
       "      <td>7+5=[12]</td>\n",
       "      <td>[(나무, NNG), (아래, NNG), (에, JKM), (기린, NNG), (이...</td>\n",
       "    </tr>\n",
       "    <tr>\n",
       "      <th>3</th>\n",
       "      <td>연수는 지금까지 훌라후프 8개를 뛰어넘었습니다. 연수가 6개를 더 뛰어넘으면 모두 ...</td>\n",
       "      <td>8+6=[14]</td>\n",
       "      <td>[(연수, NNG), (는, JX), (지금, NNG), (까지, JX), (훌라후...</td>\n",
       "    </tr>\n",
       "    <tr>\n",
       "      <th>4</th>\n",
       "      <td>아름이는 사탕 15개를 가진 다운이보다 사탕이 13개 더 많습니다. 아름이가 가진 ...</td>\n",
       "      <td>15+13=[28]</td>\n",
       "      <td>[(아름, NNP), (이, JKS), (늘, VV), (ㄴ, ETD), (사탕, ...</td>\n",
       "    </tr>\n",
       "  </tbody>\n",
       "</table>\n",
       "</div>"
      ],
      "text/plain": [
       "                                                  질문         수식풀이  \\\n",
       "0  준기는 동화책을 어제는 58쪽，오늘은 54쪽 읽었습니다. 준기는 어제와 오늘 동화책...  58+54=[112]   \n",
       "1  곤충관에서는 곤충에게 먹이를 아침에 47봉지，점심에 69봉지를 주었습니다. 아침과 ...  47+69=[116]   \n",
       "2  나무 아래에 기린이 7마리 있습니다. 5마리가 더 온다면 모두 몇 마리인지 덧셈식을...     7+5=[12]   \n",
       "3  연수는 지금까지 훌라후프 8개를 뛰어넘었습니다. 연수가 6개를 더 뛰어넘으면 모두 ...     8+6=[14]   \n",
       "4  아름이는 사탕 15개를 가진 다운이보다 사탕이 13개 더 많습니다. 아름이가 가진 ...   15+13=[28]   \n",
       "\n",
       "                                                 형태소  \n",
       "0  [(주, VV), (ㄴ, ETD), (길, VA), (는, ETD), (동화책, N...  \n",
       "1  [(곤충, NNG), (관, NNG), (에서, JKM), (는, JX), (곤충,...  \n",
       "2  [(나무, NNG), (아래, NNG), (에, JKM), (기린, NNG), (이...  \n",
       "3  [(연수, NNG), (는, JX), (지금, NNG), (까지, JX), (훌라후...  \n",
       "4  [(아름, NNP), (이, JKS), (늘, VV), (ㄴ, ETD), (사탕, ...  "
      ]
     },
     "execution_count": 48,
     "metadata": {},
     "output_type": "execute_result"
    }
   ],
   "source": [
    "df1.head()"
   ]
  },
  {
   "cell_type": "code",
   "execution_count": 58,
   "metadata": {},
   "outputs": [
    {
     "data": {
      "text/plain": [
       "[('곤충', 'NNG'),\n",
       " ('관', 'NNG'),\n",
       " ('에서', 'JKM'),\n",
       " ('는', 'JX'),\n",
       " ('곤충', 'NNG'),\n",
       " ('에게', 'JKM'),\n",
       " ('먹이', 'NNG'),\n",
       " ('를', 'JKO'),\n",
       " ('아침', 'NNG'),\n",
       " ('에', 'JKM'),\n",
       " ('47', 'NR'),\n",
       " ('봉지', 'NNG'),\n",
       " ('，', 'SP'),\n",
       " ('점심', 'NNG'),\n",
       " ('에', 'JKM'),\n",
       " ('69', 'NR'),\n",
       " ('봉지', 'NNG'),\n",
       " ('를', 'JKO'),\n",
       " ('주', 'VV'),\n",
       " ('었', 'EPT'),\n",
       " ('습니다', 'EFN'),\n",
       " ('.', 'SF'),\n",
       " ('아침', 'NNG'),\n",
       " ('과', 'JKM'),\n",
       " ('점심', 'NNG'),\n",
       " ('에', 'JKM'),\n",
       " ('먹이', 'NNG'),\n",
       " ('를', 'JKO'),\n",
       " ('모두', 'MAG'),\n",
       " ('몇', 'MDT'),\n",
       " ('봉지', 'NNG'),\n",
       " ('주', 'VV'),\n",
       " ('었', 'EPT'),\n",
       " ('을까요', 'EFQ'),\n",
       " ('?', 'SF')]"
      ]
     },
     "execution_count": 58,
     "metadata": {},
     "output_type": "execute_result"
    }
   ],
   "source": [
    "a=df1[\"형태소\"][1]\n",
    "a"
   ]
  },
  {
   "cell_type": "code",
   "execution_count": 55,
   "metadata": {},
   "outputs": [
    {
     "name": "stdout",
     "output_type": "stream",
     "text": [
      "('주', 'VV')\n",
      "주\n",
      "VV\n"
     ]
    }
   ],
   "source": [
    "print(a[0])\n",
    "print(a[0][0])\n",
    "print(a[0][1])"
   ]
  },
  {
   "cell_type": "markdown",
   "metadata": {},
   "source": [
    "C:/Python/py/Anaconda/Lib/site-packages/konlpy/java/data/kE/dic_user.txt\n",
    "    \n",
    "여기서 사전에 없는 단어 품사추가 하기"
   ]
  },
  {
   "cell_type": "code",
   "execution_count": 59,
   "metadata": {},
   "outputs": [
    {
     "name": "stdout",
     "output_type": "stream",
     "text": [
      "곤충 관\n",
      "관 에서\n",
      "곤충 에게\n",
      "먹이 를\n",
      "아침 에\n",
      "봉지 ，\n",
      "점심 에\n",
      "봉지 를\n",
      "아침 과\n",
      "점심 에\n",
      "먹이 를\n",
      "봉지 주\n"
     ]
    }
   ],
   "source": [
    "#J=[\"은\",\"는\",\"이\",\"가\"]\n",
    "\n",
    "for i in range(0,len(a)-1):\n",
    "    if (a[i][1]==\"NNG\" and (a[i+1][1] ==\"JX\" or \"JKS\" or \"JKO\")):\n",
    "        print(a[i][0],a[i+1][0])"
   ]
  },
  {
   "cell_type": "code",
   "execution_count": 60,
   "metadata": {},
   "outputs": [
    {
     "name": "stdout",
     "output_type": "stream",
     "text": [
      "47 봉지\n",
      "69 봉지\n"
     ]
    }
   ],
   "source": [
    "for i in range(0,len(a)-1):\n",
    "    if (a[i][1]==\"NR\" and (a[i+1][1] ==\"NNG\" or \"NNM\")):\n",
    "        print(a[i][0],a[i+1][0])"
   ]
  },
  {
   "cell_type": "code",
   "execution_count": 61,
   "metadata": {},
   "outputs": [
    {
     "data": {
      "text/html": [
       "<div>\n",
       "<style scoped>\n",
       "    .dataframe tbody tr th:only-of-type {\n",
       "        vertical-align: middle;\n",
       "    }\n",
       "\n",
       "    .dataframe tbody tr th {\n",
       "        vertical-align: top;\n",
       "    }\n",
       "\n",
       "    .dataframe thead th {\n",
       "        text-align: right;\n",
       "    }\n",
       "</style>\n",
       "<table border=\"1\" class=\"dataframe\">\n",
       "  <thead>\n",
       "    <tr style=\"text-align: right;\">\n",
       "      <th></th>\n",
       "      <th>질문</th>\n",
       "      <th>수식풀이</th>\n",
       "      <th>형태소</th>\n",
       "      <th>단위</th>\n",
       "    </tr>\n",
       "  </thead>\n",
       "  <tbody>\n",
       "    <tr>\n",
       "      <th>0</th>\n",
       "      <td>준기는 동화책을 어제는 58쪽，오늘은 54쪽 읽었습니다. 준기는 어제와 오늘 동화책...</td>\n",
       "      <td>58+54=[112]</td>\n",
       "      <td>[(주, VV), (ㄴ, ETD), (길, VA), (는, ETD), (동화책, N...</td>\n",
       "      <td>[58쪽, 54쪽]</td>\n",
       "    </tr>\n",
       "    <tr>\n",
       "      <th>1</th>\n",
       "      <td>곤충관에서는 곤충에게 먹이를 아침에 47봉지，점심에 69봉지를 주었습니다. 아침과 ...</td>\n",
       "      <td>47+69=[116]</td>\n",
       "      <td>[(곤충, NNG), (관, NNG), (에서, JKM), (는, JX), (곤충,...</td>\n",
       "      <td>[47봉지, 69봉지]</td>\n",
       "    </tr>\n",
       "    <tr>\n",
       "      <th>2</th>\n",
       "      <td>나무 아래에 기린이 7마리 있습니다. 5마리가 더 온다면 모두 몇 마리인지 덧셈식을...</td>\n",
       "      <td>7+5=[12]</td>\n",
       "      <td>[(나무, NNG), (아래, NNG), (에, JKM), (기린, NNG), (이...</td>\n",
       "      <td>[7마리, 5마리]</td>\n",
       "    </tr>\n",
       "    <tr>\n",
       "      <th>3</th>\n",
       "      <td>연수는 지금까지 훌라후프 8개를 뛰어넘었습니다. 연수가 6개를 더 뛰어넘으면 모두 ...</td>\n",
       "      <td>8+6=[14]</td>\n",
       "      <td>[(연수, NNG), (는, JX), (지금, NNG), (까지, JX), (훌라후...</td>\n",
       "      <td>[8개, 6개]</td>\n",
       "    </tr>\n",
       "    <tr>\n",
       "      <th>4</th>\n",
       "      <td>아름이는 사탕 15개를 가진 다운이보다 사탕이 13개 더 많습니다. 아름이가 가진 ...</td>\n",
       "      <td>15+13=[28]</td>\n",
       "      <td>[(아름, NNP), (이, JKS), (늘, VV), (ㄴ, ETD), (사탕, ...</td>\n",
       "      <td>[15개, 13개]</td>\n",
       "    </tr>\n",
       "  </tbody>\n",
       "</table>\n",
       "</div>"
      ],
      "text/plain": [
       "                                                  질문         수식풀이  \\\n",
       "0  준기는 동화책을 어제는 58쪽，오늘은 54쪽 읽었습니다. 준기는 어제와 오늘 동화책...  58+54=[112]   \n",
       "1  곤충관에서는 곤충에게 먹이를 아침에 47봉지，점심에 69봉지를 주었습니다. 아침과 ...  47+69=[116]   \n",
       "2  나무 아래에 기린이 7마리 있습니다. 5마리가 더 온다면 모두 몇 마리인지 덧셈식을...     7+5=[12]   \n",
       "3  연수는 지금까지 훌라후프 8개를 뛰어넘었습니다. 연수가 6개를 더 뛰어넘으면 모두 ...     8+6=[14]   \n",
       "4  아름이는 사탕 15개를 가진 다운이보다 사탕이 13개 더 많습니다. 아름이가 가진 ...   15+13=[28]   \n",
       "\n",
       "                                                 형태소            단위  \n",
       "0  [(주, VV), (ㄴ, ETD), (길, VA), (는, ETD), (동화책, N...    [58쪽, 54쪽]  \n",
       "1  [(곤충, NNG), (관, NNG), (에서, JKM), (는, JX), (곤충,...  [47봉지, 69봉지]  \n",
       "2  [(나무, NNG), (아래, NNG), (에, JKM), (기린, NNG), (이...    [7마리, 5마리]  \n",
       "3  [(연수, NNG), (는, JX), (지금, NNG), (까지, JX), (훌라후...      [8개, 6개]  \n",
       "4  [(아름, NNP), (이, JKS), (늘, VV), (ㄴ, ETD), (사탕, ...    [15개, 13개]  "
      ]
     },
     "execution_count": 61,
     "metadata": {},
     "output_type": "execute_result"
    }
   ],
   "source": [
    "df1['단위'] =''\n",
    "\n",
    "for i in range(0, len(df1)):\n",
    "    li=[]\n",
    "    for j in range(0,len(df1[\"형태소\"][i])-1):\n",
    "        if (df1[\"형태소\"][i][j][1]==\"NR\" and (df1[\"형태소\"][i][j+1][1] ==\"NNG\" or \"NNM\")):\n",
    "            #print(a[j][0],a[j+1][0])\n",
    "            k=df1[\"형태소\"][i][j][0]+df1[\"형태소\"][i][j+1][0] \n",
    "            li.append(k)\n",
    "        elif (df1[\"형태소\"][i][j][1]==\"NR\" and (df1[\"형태소\"][i][j+1][1] !=\"NNG\" or \"NNM\")):\n",
    "            li.append(df1[\"형태소\"][i][j][0])\n",
    "    df1['단위'][i] =li\n",
    "df1.head()"
   ]
  },
  {
   "cell_type": "code",
   "execution_count": 62,
   "metadata": {},
   "outputs": [],
   "source": [
    "df1.to_excel(\"kkma_plus.xlsx\",index=False)"
   ]
  },
  {
   "cell_type": "code",
   "execution_count": 63,
   "metadata": {},
   "outputs": [],
   "source": [
    "df2['단위'] =''\n",
    "\n",
    "for i in range(0, len(df2)):\n",
    "    li=[]\n",
    "    for j in range(0,len(df2[\"형태소\"][i])-1):\n",
    "        if (df2[\"형태소\"][i][j][1]==\"NR\" and (df2[\"형태소\"][i][j+1][1] ==\"NNG\" or \"NNM\")):\n",
    "            k=df2[\"형태소\"][i][j][0]+df2[\"형태소\"][i][j+1][0] \n",
    "            li.append(k)\n",
    "        elif (df2[\"형태소\"][i][j][1]==\"NR\" and (df2[\"형태소\"][i][j+1][1] !=\"NNG\" or \"NNM\")):\n",
    "            li.append(df2[\"형태소\"][i][j][0])\n",
    "    df2['단위'][i] =li"
   ]
  },
  {
   "cell_type": "code",
   "execution_count": 64,
   "metadata": {},
   "outputs": [],
   "source": [
    "df3['단위'] =''\n",
    "\n",
    "for i in range(0, len(df3)):\n",
    "    li=[]\n",
    "    for j in range(0,len(df3[\"형태소\"][i])-1):\n",
    "        if (df3[\"형태소\"][i][j][1]==\"NR\" and (df3[\"형태소\"][i][j+1][1] ==\"NNG\" or \"NNM\")):\n",
    "            k=df3[\"형태소\"][i][j][0]+df3[\"형태소\"][i][j+1][0] \n",
    "            li.append(k)\n",
    "        elif (df3[\"형태소\"][i][j][1]==\"NR\" and (df3[\"형태소\"][i][j+1][1] !=\"NNG\" or \"NNM\")):\n",
    "            li.append(df3[\"형태소\"][i][j][0])\n",
    "    df3['단위'][i] =li"
   ]
  },
  {
   "cell_type": "code",
   "execution_count": 67,
   "metadata": {},
   "outputs": [],
   "source": [
    "df4['단위'] =''\n",
    "\n",
    "for i in range(0, len(df4)):\n",
    "    li=[]\n",
    "    for j in range(0,len(df4[\"형태소\"][i])-1):\n",
    "        if (df4[\"형태소\"][i][j][1]==\"NR\" and (df4[\"형태소\"][i][j+1][1] ==\"NNG\" or \"NNM\")):\n",
    "            k=df4[\"형태소\"][i][j][0]+df4[\"형태소\"][i][j+1][0] \n",
    "            li.append(k)\n",
    "        elif (df4[\"형태소\"][i][j][1]==\"NR\" and (df4[\"형태소\"][i][j+1][1] !=\"NNG\" or \"NNM\")):\n",
    "            li.append(df4[\"형태소\"][i][j][0])\n",
    "    df4['단위'][i] =li"
   ]
  },
  {
   "cell_type": "code",
   "execution_count": 66,
   "metadata": {},
   "outputs": [],
   "source": [
    "df5['단위'] =''\n",
    "\n",
    "for i in range(0, len(df5)):\n",
    "    li=[]\n",
    "    for j in range(0,len(df5[\"형태소\"][i])-1):\n",
    "        if (df5[\"형태소\"][i][j][1]==\"NR\" and (df5[\"형태소\"][i][j+1][1] ==\"NNG\" or \"NNM\")):\n",
    "            k=df5[\"형태소\"][i][j][0]+df5[\"형태소\"][i][j+1][0] \n",
    "            li.append(k)\n",
    "        elif (df5[\"형태소\"][i][j][1]==\"NR\" and (df5[\"형태소\"][i][j+1][1] !=\"NNG\" or \"NNM\")):\n",
    "            li.append(df5[\"형태소\"][i][j][0])\n",
    "    df5['단위'][i] =li"
   ]
  },
  {
   "cell_type": "code",
   "execution_count": 93,
   "metadata": {},
   "outputs": [],
   "source": [
    "df2.to_excel(\"mkkma_inus.xlsx\",index=False)\n",
    "df3.to_excel(\"multiply.xlsx\",index=False)\n",
    "df4.to_excel(\"division.xlsx\",index=False)\n",
    "df5.to_excel(\"mix.xlsx\",index=False)"
   ]
  },
  {
   "cell_type": "code",
   "execution_count": 97,
   "metadata": {},
   "outputs": [
    {
     "data": {
      "text/html": [
       "<div>\n",
       "<style scoped>\n",
       "    .dataframe tbody tr th:only-of-type {\n",
       "        vertical-align: middle;\n",
       "    }\n",
       "\n",
       "    .dataframe tbody tr th {\n",
       "        vertical-align: top;\n",
       "    }\n",
       "\n",
       "    .dataframe thead th {\n",
       "        text-align: right;\n",
       "    }\n",
       "</style>\n",
       "<table border=\"1\" class=\"dataframe\">\n",
       "  <thead>\n",
       "    <tr style=\"text-align: right;\">\n",
       "      <th></th>\n",
       "      <th>질문</th>\n",
       "      <th>수식풀이</th>\n",
       "      <th>형태소</th>\n",
       "      <th>단위</th>\n",
       "    </tr>\n",
       "  </thead>\n",
       "  <tbody>\n",
       "    <tr>\n",
       "      <th>0</th>\n",
       "      <td>민호는 구슬을 57개 가지고 있습니다. 그런데 민호가 우혁이에게 구슬을 8개 주었더...</td>\n",
       "      <td>57-8+12=[61]</td>\n",
       "      <td>[(민호, Noun), (는, Josa), (구슬, Noun), (을, Josa),...</td>\n",
       "      <td>[57개, 8개, 12개]</td>\n",
       "    </tr>\n",
       "    <tr>\n",
       "      <th>1</th>\n",
       "      <td>지선이는 사탕 23개를 동생이랑 나누어 가졌습니다.  동생이 3개를 더 가졌다면 지...</td>\n",
       "      <td>(23-3)÷2=[10]</td>\n",
       "      <td>[(지선, Noun), (이, Suffix), (는, Josa), (사탕, Noun...</td>\n",
       "      <td>[23개, 3개]</td>\n",
       "    </tr>\n",
       "    <tr>\n",
       "      <th>2</th>\n",
       "      <td>수현이와 진영이는 사탕 19개를 나누어 먹었습니다.  수현이가 진영이보다 5개 더 ...</td>\n",
       "      <td>(19-5)÷2=[7]</td>\n",
       "      <td>[(수현, Noun), (이, Suffix), (와, Josa), (진영, Noun...</td>\n",
       "      <td>[19개, 5개]</td>\n",
       "    </tr>\n",
       "    <tr>\n",
       "      <th>3</th>\n",
       "      <td>형진이와 진수는 색종이로 비행기를 17개 접었습니다.  형진이가 진수보다 3개 더 ...</td>\n",
       "      <td>(17-3)÷2=[7]</td>\n",
       "      <td>[(형, Noun), (진이와, Verb), (진수, Noun), (는, Josa)...</td>\n",
       "      <td>[17개, 3개]</td>\n",
       "    </tr>\n",
       "    <tr>\n",
       "      <th>4</th>\n",
       "      <td>민기와 형진이는 선물로 받은 연필 17자루를 나누어 갖기로 하였습니다.  민기가 형...</td>\n",
       "      <td>(17-3)÷2=[7]</td>\n",
       "      <td>[(민, Noun), (기와, Noun), (형, Noun), (진이는, Verb)...</td>\n",
       "      <td>[17자루, 3자루]</td>\n",
       "    </tr>\n",
       "  </tbody>\n",
       "</table>\n",
       "</div>"
      ],
      "text/plain": [
       "                                                  질문           수식풀이  \\\n",
       "0  민호는 구슬을 57개 가지고 있습니다. 그런데 민호가 우혁이에게 구슬을 8개 주었더...   57-8+12=[61]   \n",
       "1  지선이는 사탕 23개를 동생이랑 나누어 가졌습니다.  동생이 3개를 더 가졌다면 지...  (23-3)÷2=[10]   \n",
       "2  수현이와 진영이는 사탕 19개를 나누어 먹었습니다.  수현이가 진영이보다 5개 더 ...   (19-5)÷2=[7]   \n",
       "3  형진이와 진수는 색종이로 비행기를 17개 접었습니다.  형진이가 진수보다 3개 더 ...   (17-3)÷2=[7]   \n",
       "4  민기와 형진이는 선물로 받은 연필 17자루를 나누어 갖기로 하였습니다.  민기가 형...   (17-3)÷2=[7]   \n",
       "\n",
       "                                                 형태소              단위  \n",
       "0  [(민호, Noun), (는, Josa), (구슬, Noun), (을, Josa),...  [57개, 8개, 12개]  \n",
       "1  [(지선, Noun), (이, Suffix), (는, Josa), (사탕, Noun...       [23개, 3개]  \n",
       "2  [(수현, Noun), (이, Suffix), (와, Josa), (진영, Noun...       [19개, 5개]  \n",
       "3  [(형, Noun), (진이와, Verb), (진수, Noun), (는, Josa)...       [17개, 3개]  \n",
       "4  [(민, Noun), (기와, Noun), (형, Noun), (진이는, Verb)...     [17자루, 3자루]  "
      ]
     },
     "execution_count": 97,
     "metadata": {},
     "output_type": "execute_result"
    }
   ],
   "source": [
    "df5.head()"
   ]
  },
  {
   "cell_type": "code",
   "execution_count": null,
   "metadata": {},
   "outputs": [],
   "source": []
  }
 ],
 "metadata": {
  "kernelspec": {
   "display_name": "Python 3",
   "language": "python",
   "name": "python3"
  },
  "language_info": {
   "codemirror_mode": {
    "name": "ipython",
    "version": 3
   },
   "file_extension": ".py",
   "mimetype": "text/x-python",
   "name": "python",
   "nbconvert_exporter": "python",
   "pygments_lexer": "ipython3",
   "version": "3.7.4"
  }
 },
 "nbformat": 4,
 "nbformat_minor": 2
}
