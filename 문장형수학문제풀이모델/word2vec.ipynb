{
 "cells": [
  {
   "cell_type": "code",
   "execution_count": 1,
   "metadata": {},
   "outputs": [
    {
     "data": {
      "text/html": [
       "<div>\n",
       "<style scoped>\n",
       "    .dataframe tbody tr th:only-of-type {\n",
       "        vertical-align: middle;\n",
       "    }\n",
       "\n",
       "    .dataframe tbody tr th {\n",
       "        vertical-align: top;\n",
       "    }\n",
       "\n",
       "    .dataframe thead th {\n",
       "        text-align: right;\n",
       "    }\n",
       "</style>\n",
       "<table border=\"1\" class=\"dataframe\">\n",
       "  <thead>\n",
       "    <tr style=\"text-align: right;\">\n",
       "      <th></th>\n",
       "      <th>질문</th>\n",
       "      <th>수식풀이</th>\n",
       "      <th>형태소</th>\n",
       "      <th>단위</th>\n",
       "    </tr>\n",
       "  </thead>\n",
       "  <tbody>\n",
       "    <tr>\n",
       "      <td>0</td>\n",
       "      <td>준기는 동화책을 어제는 58쪽，오늘은 54쪽 읽었습니다. 준기는 어제와 오늘 동화책...</td>\n",
       "      <td>58+54=[112]</td>\n",
       "      <td>[('준', 'Noun'), ('기는', 'Verb'), ('동화책', 'Noun'...</td>\n",
       "      <td>['58쪽', '54쪽']</td>\n",
       "    </tr>\n",
       "    <tr>\n",
       "      <td>1</td>\n",
       "      <td>곤충관에서는 곤충에게 먹이를 아침에 47봉지，점심에 69봉지를 주었습니다. 아침과 ...</td>\n",
       "      <td>47+69=[116]</td>\n",
       "      <td>[('곤충관', 'Noun'), ('에서는', 'Josa'), ('곤충', 'Nou...</td>\n",
       "      <td>['47봉지', '69봉지']</td>\n",
       "    </tr>\n",
       "    <tr>\n",
       "      <td>2</td>\n",
       "      <td>나무 아래에 기린이 7마리 있습니다. 5마리가 더 온다면 모두 몇 마리인지 덧셈식을...</td>\n",
       "      <td>7+5=[12]</td>\n",
       "      <td>[('나무', 'Noun'), ('아래', 'Noun'), ('에', 'Josa')...</td>\n",
       "      <td>['7마리', '5마리']</td>\n",
       "    </tr>\n",
       "    <tr>\n",
       "      <td>3</td>\n",
       "      <td>연수는 지금까지 훌라후프 8개를 뛰어넘었습니다. 연수가 6개를 더 뛰어넘으면 모두 ...</td>\n",
       "      <td>8+6=[14]</td>\n",
       "      <td>[('연수', 'Noun'), ('는', 'Josa'), ('지금', 'Noun')...</td>\n",
       "      <td>['8개', '6개']</td>\n",
       "    </tr>\n",
       "    <tr>\n",
       "      <td>4</td>\n",
       "      <td>아름이는 사탕 15개를 가진 다운이보다 사탕이 13개 더 많습니다. 아름이가 가진 ...</td>\n",
       "      <td>15+13=[28]</td>\n",
       "      <td>[('아름이', 'Noun'), ('는', 'Josa'), ('사탕', 'Noun'...</td>\n",
       "      <td>['15개', '13개']</td>\n",
       "    </tr>\n",
       "  </tbody>\n",
       "</table>\n",
       "</div>"
      ],
      "text/plain": [
       "                                                  질문         수식풀이  \\\n",
       "0  준기는 동화책을 어제는 58쪽，오늘은 54쪽 읽었습니다. 준기는 어제와 오늘 동화책...  58+54=[112]   \n",
       "1  곤충관에서는 곤충에게 먹이를 아침에 47봉지，점심에 69봉지를 주었습니다. 아침과 ...  47+69=[116]   \n",
       "2  나무 아래에 기린이 7마리 있습니다. 5마리가 더 온다면 모두 몇 마리인지 덧셈식을...     7+5=[12]   \n",
       "3  연수는 지금까지 훌라후프 8개를 뛰어넘었습니다. 연수가 6개를 더 뛰어넘으면 모두 ...     8+6=[14]   \n",
       "4  아름이는 사탕 15개를 가진 다운이보다 사탕이 13개 더 많습니다. 아름이가 가진 ...   15+13=[28]   \n",
       "\n",
       "                                                 형태소                단위  \n",
       "0  [('준', 'Noun'), ('기는', 'Verb'), ('동화책', 'Noun'...    ['58쪽', '54쪽']  \n",
       "1  [('곤충관', 'Noun'), ('에서는', 'Josa'), ('곤충', 'Nou...  ['47봉지', '69봉지']  \n",
       "2  [('나무', 'Noun'), ('아래', 'Noun'), ('에', 'Josa')...    ['7마리', '5마리']  \n",
       "3  [('연수', 'Noun'), ('는', 'Josa'), ('지금', 'Noun')...      ['8개', '6개']  \n",
       "4  [('아름이', 'Noun'), ('는', 'Josa'), ('사탕', 'Noun'...    ['15개', '13개']  "
      ]
     },
     "execution_count": 1,
     "metadata": {},
     "output_type": "execute_result"
    }
   ],
   "source": [
    "import pandas as pd\n",
    "\n",
    "df1=pd.read_excel(\"okt_plus.xlsx\")\n",
    "df1.head()"
   ]
  },
  {
   "cell_type": "code",
   "execution_count": 27,
   "metadata": {},
   "outputs": [
    {
     "data": {
      "text/html": [
       "<div>\n",
       "<style scoped>\n",
       "    .dataframe tbody tr th:only-of-type {\n",
       "        vertical-align: middle;\n",
       "    }\n",
       "\n",
       "    .dataframe tbody tr th {\n",
       "        vertical-align: top;\n",
       "    }\n",
       "\n",
       "    .dataframe thead th {\n",
       "        text-align: right;\n",
       "    }\n",
       "</style>\n",
       "<table border=\"1\" class=\"dataframe\">\n",
       "  <thead>\n",
       "    <tr style=\"text-align: right;\">\n",
       "      <th></th>\n",
       "      <th>질문</th>\n",
       "      <th>형태소</th>\n",
       "    </tr>\n",
       "  </thead>\n",
       "  <tbody>\n",
       "    <tr>\n",
       "      <th>0</th>\n",
       "      <td>준기는 동화책을 어제는 58쪽，오늘은 54쪽 읽었습니다. 준기는 어제와 오늘 동화책...</td>\n",
       "      <td>준기는 동화책을 어제는 58쪽，오늘은 54쪽 읽었습니다. 준기는 어제와 오늘 동화책...</td>\n",
       "    </tr>\n",
       "    <tr>\n",
       "      <th>1</th>\n",
       "      <td>곤충관에서는 곤충에게 먹이를 아침에 47봉지，점심에 69봉지를 주었습니다. 아침과 ...</td>\n",
       "      <td>곤충관에서는 곤충에게 먹이를 아침에 47봉지，점심에 69봉지를 주었습니다. 아침과 ...</td>\n",
       "    </tr>\n",
       "    <tr>\n",
       "      <th>2</th>\n",
       "      <td>나무 아래에 기린이 7마리 있습니다. 5마리가 더 온다면 모두 몇 마리인지 덧셈식을...</td>\n",
       "      <td>나무 아래에 기린이 7마리 있습니다. 5마리가 더 온다면 모두 몇 마리인지 덧셈식을...</td>\n",
       "    </tr>\n",
       "    <tr>\n",
       "      <th>3</th>\n",
       "      <td>연수는 지금까지 훌라후프 8개를 뛰어넘었습니다. 연수가 6개를 더 뛰어넘으면 모두 ...</td>\n",
       "      <td>연수는 지금까지 훌라후프 8개를 뛰어넘었습니다. 연수가 6개를 더 뛰어넘으면 모두 ...</td>\n",
       "    </tr>\n",
       "    <tr>\n",
       "      <th>4</th>\n",
       "      <td>아름이는 사탕 15개를 가진 다운이보다 사탕이 13개 더 많습니다. 아름이가 가진 ...</td>\n",
       "      <td>아름이는 사탕 15개를 가진 다운이보다 사탕이 13개 더 많습니다. 아름이가 가진 ...</td>\n",
       "    </tr>\n",
       "  </tbody>\n",
       "</table>\n",
       "</div>"
      ],
      "text/plain": [
       "                                                  질문  \\\n",
       "0  준기는 동화책을 어제는 58쪽，오늘은 54쪽 읽었습니다. 준기는 어제와 오늘 동화책...   \n",
       "1  곤충관에서는 곤충에게 먹이를 아침에 47봉지，점심에 69봉지를 주었습니다. 아침과 ...   \n",
       "2  나무 아래에 기린이 7마리 있습니다. 5마리가 더 온다면 모두 몇 마리인지 덧셈식을...   \n",
       "3  연수는 지금까지 훌라후프 8개를 뛰어넘었습니다. 연수가 6개를 더 뛰어넘으면 모두 ...   \n",
       "4  아름이는 사탕 15개를 가진 다운이보다 사탕이 13개 더 많습니다. 아름이가 가진 ...   \n",
       "\n",
       "                                                 형태소  \n",
       "0  준기는 동화책을 어제는 58쪽，오늘은 54쪽 읽었습니다. 준기는 어제와 오늘 동화책...  \n",
       "1  곤충관에서는 곤충에게 먹이를 아침에 47봉지，점심에 69봉지를 주었습니다. 아침과 ...  \n",
       "2  나무 아래에 기린이 7마리 있습니다. 5마리가 더 온다면 모두 몇 마리인지 덧셈식을...  \n",
       "3  연수는 지금까지 훌라후프 8개를 뛰어넘었습니다. 연수가 6개를 더 뛰어넘으면 모두 ...  \n",
       "4  아름이는 사탕 15개를 가진 다운이보다 사탕이 13개 더 많습니다. 아름이가 가진 ...  "
      ]
     },
     "execution_count": 27,
     "metadata": {},
     "output_type": "execute_result"
    }
   ],
   "source": [
    "df=pd.DataFrame({\"질문\":df1[\"질문\"],\"형태소\":df1[\"질문\"]})\n",
    "\n",
    "df.head()"
   ]
  },
  {
   "cell_type": "code",
   "execution_count": 20,
   "metadata": {},
   "outputs": [],
   "source": [
    "from konlpy.tag import Okt\n",
    "okt=Okt()"
   ]
  },
  {
   "cell_type": "code",
   "execution_count": 28,
   "metadata": {},
   "outputs": [
    {
     "data": {
      "text/html": [
       "<div>\n",
       "<style scoped>\n",
       "    .dataframe tbody tr th:only-of-type {\n",
       "        vertical-align: middle;\n",
       "    }\n",
       "\n",
       "    .dataframe tbody tr th {\n",
       "        vertical-align: top;\n",
       "    }\n",
       "\n",
       "    .dataframe thead th {\n",
       "        text-align: right;\n",
       "    }\n",
       "</style>\n",
       "<table border=\"1\" class=\"dataframe\">\n",
       "  <thead>\n",
       "    <tr style=\"text-align: right;\">\n",
       "      <th></th>\n",
       "      <th>질문</th>\n",
       "      <th>형태소</th>\n",
       "    </tr>\n",
       "  </thead>\n",
       "  <tbody>\n",
       "    <tr>\n",
       "      <th>0</th>\n",
       "      <td>준기는 동화책을 어제는 58쪽，오늘은 54쪽 읽었습니다. 준기는 어제와 오늘 동화책...</td>\n",
       "      <td>[준, 기는, 동화책, 을, 어제, 는, 58, 쪽, ，, 오늘, 은, 54, 쪽,...</td>\n",
       "    </tr>\n",
       "    <tr>\n",
       "      <th>1</th>\n",
       "      <td>곤충관에서는 곤충에게 먹이를 아침에 47봉지，점심에 69봉지를 주었습니다. 아침과 ...</td>\n",
       "      <td>[곤충관, 에서는, 곤충, 에게, 먹이, 를, 아침, 에, 47, 봉지, ，, 점심...</td>\n",
       "    </tr>\n",
       "    <tr>\n",
       "      <th>2</th>\n",
       "      <td>나무 아래에 기린이 7마리 있습니다. 5마리가 더 온다면 모두 몇 마리인지 덧셈식을...</td>\n",
       "      <td>[나무, 아래, 에, 기린, 이, 7, 마리, 있습니다, ., 5, 마리, 가, 더...</td>\n",
       "    </tr>\n",
       "    <tr>\n",
       "      <th>3</th>\n",
       "      <td>연수는 지금까지 훌라후프 8개를 뛰어넘었습니다. 연수가 6개를 더 뛰어넘으면 모두 ...</td>\n",
       "      <td>[연수, 는, 지금, 까지, 훌라후프, 8, 개, 를, 뛰어넘었습니다, ., 연수,...</td>\n",
       "    </tr>\n",
       "    <tr>\n",
       "      <th>4</th>\n",
       "      <td>아름이는 사탕 15개를 가진 다운이보다 사탕이 13개 더 많습니다. 아름이가 가진 ...</td>\n",
       "      <td>[아름이, 는, 사탕, 15, 개, 를, 가진, 다운, 이, 보다, 사탕, 이, 1...</td>\n",
       "    </tr>\n",
       "  </tbody>\n",
       "</table>\n",
       "</div>"
      ],
      "text/plain": [
       "                                                  질문  \\\n",
       "0  준기는 동화책을 어제는 58쪽，오늘은 54쪽 읽었습니다. 준기는 어제와 오늘 동화책...   \n",
       "1  곤충관에서는 곤충에게 먹이를 아침에 47봉지，점심에 69봉지를 주었습니다. 아침과 ...   \n",
       "2  나무 아래에 기린이 7마리 있습니다. 5마리가 더 온다면 모두 몇 마리인지 덧셈식을...   \n",
       "3  연수는 지금까지 훌라후프 8개를 뛰어넘었습니다. 연수가 6개를 더 뛰어넘으면 모두 ...   \n",
       "4  아름이는 사탕 15개를 가진 다운이보다 사탕이 13개 더 많습니다. 아름이가 가진 ...   \n",
       "\n",
       "                                                 형태소  \n",
       "0  [준, 기는, 동화책, 을, 어제, 는, 58, 쪽, ，, 오늘, 은, 54, 쪽,...  \n",
       "1  [곤충관, 에서는, 곤충, 에게, 먹이, 를, 아침, 에, 47, 봉지, ，, 점심...  \n",
       "2  [나무, 아래, 에, 기린, 이, 7, 마리, 있습니다, ., 5, 마리, 가, 더...  \n",
       "3  [연수, 는, 지금, 까지, 훌라후프, 8, 개, 를, 뛰어넘었습니다, ., 연수,...  \n",
       "4  [아름이, 는, 사탕, 15, 개, 를, 가진, 다운, 이, 보다, 사탕, 이, 1...  "
      ]
     },
     "execution_count": 28,
     "metadata": {},
     "output_type": "execute_result"
    }
   ],
   "source": [
    "for i in range(0, len(df1)):\n",
    "    df['형태소'][i] = okt.morphs(df1[\"질문\"][i])\n",
    "df.head()    "
   ]
  },
  {
   "cell_type": "code",
   "execution_count": 36,
   "metadata": {},
   "outputs": [
    {
     "name": "stdout",
     "output_type": "stream",
     "text": [
      "['준', '기는', '동화책', '을', '어제', '는', '58', '쪽', '，', '오늘', '은', '54', '쪽', '읽었습니다', '.', '준', '기는', '어제', '와', '오늘', '동화책', '을', '모두', '몇', '쪽', '읽었을까요', '?']\n"
     ]
    },
    {
     "data": {
      "text/plain": [
       "(list, None)"
      ]
     },
     "execution_count": 36,
     "metadata": {},
     "output_type": "execute_result"
    }
   ],
   "source": [
    "temp=df[\"형태소\"][0]\n",
    "\n",
    "type(temp),print(temp)"
   ]
  },
  {
   "cell_type": "code",
   "execution_count": 47,
   "metadata": {},
   "outputs": [
    {
     "data": {
      "text/plain": [
       "90"
      ]
     },
     "execution_count": 47,
     "metadata": {},
     "output_type": "execute_result"
    }
   ],
   "source": [
    "result=[]\n",
    "for i in range(0,len(df)-1):\n",
    "    result.append(df[\"형태소\"][i])\n",
    "len(result)    "
   ]
  },
  {
   "cell_type": "code",
   "execution_count": 48,
   "metadata": {},
   "outputs": [
    {
     "name": "stdout",
     "output_type": "stream",
     "text": [
      "총 샘플의 개수 : 90\n"
     ]
    }
   ],
   "source": [
    "print('총 샘플의 개수 : {}'.format(len(result)))"
   ]
  },
  {
   "cell_type": "code",
   "execution_count": 49,
   "metadata": {},
   "outputs": [],
   "source": [
    "from gensim.models import Word2Vec\n",
    "model = Word2Vec(result, size=100, window=5, min_count=5, workers=4, sg=0)\n"
   ]
  },
  {
   "cell_type": "code",
   "execution_count": 50,
   "metadata": {},
   "outputs": [
    {
     "name": "stdout",
     "output_type": "stream",
     "text": [
      "[('몇', 0.952442467212677), (',', 0.9409106969833374), ('.', 0.9384489059448242), ('가', 0.937970757484436), ('개', 0.9378779530525208), ('을', 0.925575852394104), ('식', 0.9237483143806458), ('구슬', 0.9237178564071655), ('를', 0.9235652685165405), ('있습니다', 0.9227707386016846)]\n"
     ]
    }
   ],
   "source": [
    "model_result1=model.wv.most_similar(\"모두\")\n",
    "print(model_result1)"
   ]
  },
  {
   "cell_type": "code",
   "execution_count": null,
   "metadata": {},
   "outputs": [],
   "source": []
  }
 ],
 "metadata": {
  "kernelspec": {
   "display_name": "Python 3",
   "language": "python",
   "name": "python3"
  },
  "language_info": {
   "codemirror_mode": {
    "name": "ipython",
    "version": 3
   },
   "file_extension": ".py",
   "mimetype": "text/x-python",
   "name": "python",
   "nbconvert_exporter": "python",
   "pygments_lexer": "ipython3",
   "version": "3.7.4"
  }
 },
 "nbformat": 4,
 "nbformat_minor": 2
}
