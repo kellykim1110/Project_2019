{
 "cells": [
  {
   "cell_type": "markdown",
   "metadata": {
    "colab_type": "text",
    "id": "aNFijXs-lu2W"
   },
   "source": [
    "# 이미지 웹 크롤링 in 크롬"
   ]
  },
  {
   "cell_type": "code",
   "execution_count": null,
   "metadata": {
    "colab": {},
    "colab_type": "code",
    "id": "RW91AQTLl5oE"
   },
   "outputs": [],
   "source": []
  },
  {
   "cell_type": "markdown",
   "metadata": {
    "colab_type": "text",
    "id": "noQferZ8l5Hc"
   },
   "source": [
    "# 이미지 불러오기 및 resize"
   ]
  },
  {
   "cell_type": "code",
   "execution_count": 1,
   "metadata": {
    "colab": {},
    "colab_type": "code",
    "id": "BfA8Yz6Zgf9q"
   },
   "outputs": [],
   "source": [
    "import glob\n",
    "\n",
    "from PIL import Image\n",
    "import numpy as np"
   ]
  },
  {
   "cell_type": "code",
   "execution_count": 2,
   "metadata": {
    "colab": {},
    "colab_type": "code",
    "id": "Oh5wGgZLgjZL"
   },
   "outputs": [],
   "source": [
    "top_images_jpg = glob.glob('./상의/' + '*.jpg')\n",
    "top_images_png = glob.glob('./상의/' + '*.png')\n",
    "top_images_jpeg = glob.glob('./상의/' + '*.jpeg')\n",
    "\n",
    "pants_images_jpg = glob.glob('./하의/' + '*.jpg')\n",
    "pants_images_png = glob.glob('./하의/' + '*.png')\n",
    "pants_images_jpeg = glob.glob('./하의/' + '*.jpeg')"
   ]
  },
  {
   "cell_type": "code",
   "execution_count": 3,
   "metadata": {
    "colab": {
     "base_uri": "https://localhost:8080/",
     "height": 92
    },
    "colab_type": "code",
    "executionInfo": {
     "elapsed": 826,
     "status": "ok",
     "timestamp": 1571379123049,
     "user": {
      "displayName": "김봉수",
      "photoUrl": "",
      "userId": "13387137173273535318"
     },
     "user_tz": -540
    },
    "id": "B2VsI5hhklPv",
    "outputId": "33b1ce4b-5754-42de-cb38-87915478e047"
   },
   "outputs": [
    {
     "name": "stdout",
     "output_type": "stream",
     "text": [
      "['./상의\\\\000001.jpg', './상의\\\\000002.jpg', './상의\\\\000003.jpg', './상의\\\\000004.jpg', './상의\\\\000005.jpg']\n",
      "==================================================\n",
      "['./하의\\\\1.83081_NVYB.jpg', './하의\\\\10.104115001_1.jpg', './하의\\\\10.A1_2.jpg', './하의\\\\100.14024323_18246600_300.jpg', './하의\\\\101.2018-fashion-mens-skinny-jeans-ripped-slim.jpg']\n"
     ]
    }
   ],
   "source": [
    "print(top_images_jpg[:5])\n",
    "print('='*50)\n",
    "print(pants_images_jpg[0:5])"
   ]
  },
  {
   "cell_type": "code",
   "execution_count": 4,
   "metadata": {
    "colab": {},
    "colab_type": "code",
    "id": "T2Uvr-Umtp-2"
   },
   "outputs": [],
   "source": [
    "image_width = 64\n",
    "image_height = 64"
   ]
  },
  {
   "cell_type": "code",
   "execution_count": 5,
   "metadata": {
    "colab": {
     "base_uri": "https://localhost:8080/",
     "height": 74
    },
    "colab_type": "code",
    "executionInfo": {
     "elapsed": 9552,
     "status": "ok",
     "timestamp": 1571380150800,
     "user": {
      "displayName": "김봉수",
      "photoUrl": "",
      "userId": "13387137173273535318"
     },
     "user_tz": -540
    },
    "id": "cQtjBlK5iMRD",
    "outputId": "70c7b3bf-331b-420a-e3b5-d03834802c61"
   },
   "outputs": [
    {
     "name": "stderr",
     "output_type": "stream",
     "text": [
      "C:\\Python\\py\\Anaconda\\lib\\site-packages\\PIL\\Image.py:993: UserWarning: Palette images with Transparency expressed in bytes should be converted to RGBA images\n",
      "  \"Palette images with Transparency expressed in bytes should be \"\n"
     ]
    }
   ],
   "source": [
    "X = []\n",
    "Y = []\n",
    "\n",
    "a = [top_images_jpg, top_images_png, top_images_jpeg, pants_images_jpg, pants_images_png, pants_images_jpeg]\n",
    "\n",
    "for idx, i in enumerate(a):\n",
    "  if idx < 3:\n",
    "    #이미지 로딩\n",
    "    for i, f in enumerate(i):\n",
    "      img = Image.open(f)\n",
    "      img = img.convert(\"RGB\")\n",
    "      img = img.resize((image_width, image_height))\n",
    "      data = np.asarray(img)\n",
    "      X.append(data)\n",
    "      Y.append(1)\n",
    "  else:\n",
    "    for i, f in enumerate(i):\n",
    "      img = Image.open(f)\n",
    "      img = img.convert(\"RGB\")\n",
    "      img = img.resize((image_width, image_height))\n",
    "      data = np.asarray(img)\n",
    "      X.append(data)\n",
    "      Y.append(0)"
   ]
  },
  {
   "cell_type": "code",
   "execution_count": 6,
   "metadata": {
    "colab": {
     "base_uri": "https://localhost:8080/",
     "height": 1000
    },
    "colab_type": "code",
    "executionInfo": {
     "elapsed": 498,
     "status": "ok",
     "timestamp": 1571380152068,
     "user": {
      "displayName": "김봉수",
      "photoUrl": "",
      "userId": "13387137173273535318"
     },
     "user_tz": -540
    },
    "id": "6Wbo1bcLkJYN",
    "outputId": "393b596b-6e1e-4fea-b488-dd14660bb0ca"
   },
   "outputs": [
    {
     "data": {
      "text/plain": [
       "[array([[[245, 245, 245],\n",
       "         [245, 245, 245],\n",
       "         [245, 245, 245],\n",
       "         ...,\n",
       "         [245, 245, 245],\n",
       "         [245, 245, 245],\n",
       "         [245, 245, 245]],\n",
       " \n",
       "        [[245, 245, 245],\n",
       "         [245, 245, 245],\n",
       "         [245, 245, 245],\n",
       "         ...,\n",
       "         [245, 245, 245],\n",
       "         [245, 245, 245],\n",
       "         [245, 245, 245]],\n",
       " \n",
       "        [[245, 245, 245],\n",
       "         [245, 245, 245],\n",
       "         [245, 245, 245],\n",
       "         ...,\n",
       "         [245, 245, 245],\n",
       "         [245, 245, 245],\n",
       "         [245, 245, 245]],\n",
       " \n",
       "        ...,\n",
       " \n",
       "        [[245, 245, 245],\n",
       "         [245, 245, 245],\n",
       "         [245, 245, 245],\n",
       "         ...,\n",
       "         [245, 245, 245],\n",
       "         [245, 245, 245],\n",
       "         [245, 245, 245]],\n",
       " \n",
       "        [[245, 245, 245],\n",
       "         [245, 245, 245],\n",
       "         [245, 245, 245],\n",
       "         ...,\n",
       "         [245, 245, 245],\n",
       "         [245, 245, 245],\n",
       "         [245, 245, 245]],\n",
       " \n",
       "        [[245, 245, 245],\n",
       "         [245, 245, 245],\n",
       "         [245, 245, 245],\n",
       "         ...,\n",
       "         [245, 245, 245],\n",
       "         [245, 245, 245],\n",
       "         [245, 245, 245]]], dtype=uint8), array([[[171, 184, 193],\n",
       "         [171, 184, 193],\n",
       "         [171, 184, 193],\n",
       "         ...,\n",
       "         [171, 184, 193],\n",
       "         [171, 184, 193],\n",
       "         [171, 184, 193]],\n",
       " \n",
       "        [[171, 184, 193],\n",
       "         [171, 184, 193],\n",
       "         [171, 184, 193],\n",
       "         ...,\n",
       "         [171, 184, 193],\n",
       "         [171, 184, 193],\n",
       "         [171, 184, 193]],\n",
       " \n",
       "        [[171, 184, 193],\n",
       "         [171, 184, 193],\n",
       "         [171, 184, 193],\n",
       "         ...,\n",
       "         [171, 184, 193],\n",
       "         [171, 184, 193],\n",
       "         [171, 184, 193]],\n",
       " \n",
       "        ...,\n",
       " \n",
       "        [[171, 184, 193],\n",
       "         [171, 184, 193],\n",
       "         [171, 184, 193],\n",
       "         ...,\n",
       "         [171, 184, 193],\n",
       "         [171, 184, 193],\n",
       "         [171, 184, 193]],\n",
       " \n",
       "        [[171, 184, 193],\n",
       "         [171, 184, 193],\n",
       "         [171, 184, 193],\n",
       "         ...,\n",
       "         [171, 184, 193],\n",
       "         [171, 184, 193],\n",
       "         [171, 184, 193]],\n",
       " \n",
       "        [[171, 184, 193],\n",
       "         [171, 184, 193],\n",
       "         [171, 184, 193],\n",
       "         ...,\n",
       "         [171, 184, 193],\n",
       "         [171, 184, 193],\n",
       "         [171, 184, 193]]], dtype=uint8), array([[[206, 201, 197],\n",
       "         [206, 202, 193],\n",
       "         [205, 196, 189],\n",
       "         ...,\n",
       "         [190, 190, 180],\n",
       "         [189, 185, 176],\n",
       "         [192, 187, 181]],\n",
       " \n",
       "        [[206, 203, 198],\n",
       "         [204, 203, 198],\n",
       "         [206, 205, 200],\n",
       "         ...,\n",
       "         [204, 201, 192],\n",
       "         [206, 203, 198],\n",
       "         [204, 199, 193]],\n",
       " \n",
       "        [[210, 206, 197],\n",
       "         [210, 207, 200],\n",
       "         [209, 204, 198],\n",
       "         ...,\n",
       "         [209, 206, 201],\n",
       "         [210, 206, 195],\n",
       "         [210, 203, 195]],\n",
       " \n",
       "        ...,\n",
       " \n",
       "        [[213, 213, 215],\n",
       "         [213, 214, 216],\n",
       "         [214, 214, 216],\n",
       "         ...,\n",
       "         [210, 210, 208],\n",
       "         [209, 209, 207],\n",
       "         [210, 210, 208]],\n",
       " \n",
       "        [[170, 171, 166],\n",
       "         [172, 174, 173],\n",
       "         [175, 179, 178],\n",
       "         ...,\n",
       "         [192, 193, 198],\n",
       "         [194, 193, 198],\n",
       "         [195, 195, 195]],\n",
       " \n",
       "        [[208, 207, 212],\n",
       "         [209, 209, 211],\n",
       "         [210, 210, 210],\n",
       "         ...,\n",
       "         [209, 209, 207],\n",
       "         [205, 205, 203],\n",
       "         [206, 205, 201]]], dtype=uint8), array([[[255, 255, 255],\n",
       "         [255, 255, 255],\n",
       "         [255, 255, 255],\n",
       "         ...,\n",
       "         [255, 255, 255],\n",
       "         [255, 255, 255],\n",
       "         [255, 255, 255]],\n",
       " \n",
       "        [[255, 255, 255],\n",
       "         [255, 255, 255],\n",
       "         [255, 255, 255],\n",
       "         ...,\n",
       "         [255, 255, 255],\n",
       "         [255, 255, 255],\n",
       "         [255, 255, 255]],\n",
       " \n",
       "        [[255, 255, 255],\n",
       "         [255, 255, 255],\n",
       "         [255, 255, 255],\n",
       "         ...,\n",
       "         [255, 255, 255],\n",
       "         [255, 255, 255],\n",
       "         [255, 255, 255]],\n",
       " \n",
       "        ...,\n",
       " \n",
       "        [[255, 255, 255],\n",
       "         [255, 255, 255],\n",
       "         [255, 255, 255],\n",
       "         ...,\n",
       "         [255, 255, 255],\n",
       "         [255, 255, 255],\n",
       "         [255, 255, 255]],\n",
       " \n",
       "        [[255, 255, 255],\n",
       "         [255, 255, 255],\n",
       "         [255, 255, 255],\n",
       "         ...,\n",
       "         [255, 255, 255],\n",
       "         [255, 255, 255],\n",
       "         [255, 255, 255]],\n",
       " \n",
       "        [[255, 255, 255],\n",
       "         [255, 255, 255],\n",
       "         [255, 255, 255],\n",
       "         ...,\n",
       "         [255, 255, 255],\n",
       "         [255, 255, 255],\n",
       "         [255, 255, 255]]], dtype=uint8), array([[[179, 176, 183],\n",
       "         [179, 176, 183],\n",
       "         [180, 177, 184],\n",
       "         ...,\n",
       "         [189, 188, 194],\n",
       "         [189, 188, 194],\n",
       "         [189, 188, 194]],\n",
       " \n",
       "        [[180, 177, 184],\n",
       "         [180, 177, 184],\n",
       "         [180, 177, 184],\n",
       "         ...,\n",
       "         [190, 189, 195],\n",
       "         [190, 189, 195],\n",
       "         [190, 189, 195]],\n",
       " \n",
       "        [[179, 176, 183],\n",
       "         [180, 177, 184],\n",
       "         [180, 177, 184],\n",
       "         ...,\n",
       "         [190, 189, 195],\n",
       "         [191, 190, 196],\n",
       "         [191, 190, 196]],\n",
       " \n",
       "        ...,\n",
       " \n",
       "        [[180, 177, 184],\n",
       "         [180, 177, 184],\n",
       "         [180, 177, 184],\n",
       "         ...,\n",
       "         [191, 190, 196],\n",
       "         [191, 190, 196],\n",
       "         [192, 191, 197]],\n",
       " \n",
       "        [[180, 177, 184],\n",
       "         [180, 177, 184],\n",
       "         [180, 177, 184],\n",
       "         ...,\n",
       "         [190, 189, 195],\n",
       "         [191, 190, 196],\n",
       "         [192, 191, 197]],\n",
       " \n",
       "        [[180, 177, 184],\n",
       "         [180, 177, 184],\n",
       "         [180, 177, 184],\n",
       "         ...,\n",
       "         [191, 190, 196],\n",
       "         [189, 188, 194],\n",
       "         [192, 191, 197]]], dtype=uint8)]"
      ]
     },
     "execution_count": 6,
     "metadata": {},
     "output_type": "execute_result"
    }
   ],
   "source": [
    "X[0:5]"
   ]
  },
  {
   "cell_type": "code",
   "execution_count": 7,
   "metadata": {
    "colab": {
     "base_uri": "https://localhost:8080/",
     "height": 35
    },
    "colab_type": "code",
    "executionInfo": {
     "elapsed": 503,
     "status": "ok",
     "timestamp": 1571380153205,
     "user": {
      "displayName": "김봉수",
      "photoUrl": "",
      "userId": "13387137173273535318"
     },
     "user_tz": -540
    },
    "id": "0Eep_KtakKFr",
    "outputId": "26cde680-5d8e-4d48-8615-c10800830a8c"
   },
   "outputs": [
    {
     "data": {
      "text/plain": [
       "[1, 1, 1, 1, 1]"
      ]
     },
     "execution_count": 7,
     "metadata": {},
     "output_type": "execute_result"
    }
   ],
   "source": [
    "Y[0:5]"
   ]
  },
  {
   "cell_type": "markdown",
   "metadata": {
    "colab_type": "text",
    "id": "ZkTc_HO360lv"
   },
   "source": [
    "# 데이터 분리 저장"
   ]
  },
  {
   "cell_type": "code",
   "execution_count": 8,
   "metadata": {
    "colab": {
     "base_uri": "https://localhost:8080/",
     "height": 35
    },
    "colab_type": "code",
    "executionInfo": {
     "elapsed": 2536,
     "status": "ok",
     "timestamp": 1571379345751,
     "user": {
      "displayName": "김봉수",
      "photoUrl": "",
      "userId": "13387137173273535318"
     },
     "user_tz": -540
    },
    "id": "MtIKxYxXlXr1",
    "outputId": "8ade2872-9803-445e-fe80-cc8c5ee48e2e"
   },
   "outputs": [
    {
     "name": "stderr",
     "output_type": "stream",
     "text": [
      "Using TensorFlow backend.\n"
     ]
    }
   ],
   "source": [
    "import keras\n",
    "import tensorflow as tf\n",
    "import numpy as np\n",
    "import matplotlib.pyplot as plt\n",
    "import pandas as pd"
   ]
  },
  {
   "cell_type": "code",
   "execution_count": 9,
   "metadata": {
    "colab": {
     "base_uri": "https://localhost:8080/",
     "height": 287
    },
    "colab_type": "code",
    "executionInfo": {
     "elapsed": 1286,
     "status": "ok",
     "timestamp": 1571380159433,
     "user": {
      "displayName": "김봉수",
      "photoUrl": "",
      "userId": "13387137173273535318"
     },
     "user_tz": -540
    },
    "id": "txTIZPbW65Rw",
    "outputId": "8cb994fc-7b51-436f-9a42-9da6a33510c0"
   },
   "outputs": [
    {
     "data": {
      "text/plain": [
       "<matplotlib.image.AxesImage at 0x258df27a898>"
      ]
     },
     "execution_count": 9,
     "metadata": {},
     "output_type": "execute_result"
    },
    {
     "data": {
      "image/png": "[encoded data removed]",
      "text/plain": [
       "<Figure size 432x288 with 1 Axes>"
      ]
     },
     "metadata": {
      "needs_background": "light"
     },
     "output_type": "display_data"
    }
   ],
   "source": [
    "plt.imshow(X[0])"
   ]
  },
  {
   "cell_type": "code",
   "execution_count": 10,
   "metadata": {
    "colab": {
     "base_uri": "https://localhost:8080/",
     "height": 35
    },
    "colab_type": "code",
    "executionInfo": {
     "elapsed": 820,
     "status": "ok",
     "timestamp": 1571380162159,
     "user": {
      "displayName": "김봉수",
      "photoUrl": "",
      "userId": "13387137173273535318"
     },
     "user_tz": -540
    },
    "id": "eV_c2bMS9UzD",
    "outputId": "217e263d-50e6-4528-fa5b-45744d622104"
   },
   "outputs": [
    {
     "name": "stdout",
     "output_type": "stream",
     "text": [
      "(1897, 64, 64, 3) (1897,)\n"
     ]
    }
   ],
   "source": [
    "X = np.array(X)\n",
    "Y = np.array(Y)\n",
    "\n",
    "print(X.shape, Y.shape)"
   ]
  },
  {
   "cell_type": "code",
   "execution_count": 11,
   "metadata": {
    "colab": {},
    "colab_type": "code",
    "id": "WWtP_2318DV3"
   },
   "outputs": [],
   "source": [
    "from sklearn.model_selection import train_test_split\n",
    "\n",
    "X_train, X_test, Y_train, Y_test = train_test_split(X, Y)\n",
    "xy = (X_train, X_test, Y_train, Y_test)"
   ]
  },
  {
   "cell_type": "code",
   "execution_count": 12,
   "metadata": {
    "colab": {},
    "colab_type": "code",
    "id": "-i1qpc329tuO"
   },
   "outputs": [],
   "source": [
    "np.save('clothes_1.npy', xy)"
   ]
  },
  {
   "cell_type": "code",
   "execution_count": 13,
   "metadata": {
    "colab": {
     "base_uri": "https://localhost:8080/",
     "height": 35
    },
    "colab_type": "code",
    "executionInfo": {
     "elapsed": 826,
     "status": "ok",
     "timestamp": 1571379753130,
     "user": {
      "displayName": "김봉수",
      "photoUrl": "",
      "userId": "13387137173273535318"
     },
     "user_tz": -540
    },
    "id": "QiQSZTY7_L1B",
    "outputId": "7496af11-454e-4977-8ee4-e17280147f9d"
   },
   "outputs": [
    {
     "data": {
      "text/plain": [
       "{0, 1}"
      ]
     },
     "execution_count": 13,
     "metadata": {},
     "output_type": "execute_result"
    }
   ],
   "source": [
    "set(Y_train)"
   ]
  },
  {
   "cell_type": "markdown",
   "metadata": {
    "colab": {},
    "colab_type": "code",
    "id": "UuMMi3Rxh4HT"
   },
   "source": [
    "# 모델링"
   ]
  },
  {
   "cell_type": "code",
   "execution_count": 14,
   "metadata": {},
   "outputs": [],
   "source": [
    "## 사용할 모델 라이브러리 import\n",
    "import sys, os\n",
    "from keras.models import Sequential\n",
    "from keras.layers import Convolution2D\n",
    "from keras.layers import MaxPooling2D\n",
    "from keras.layers import Activation\n",
    "from keras.layers import Dropout\n",
    "from keras.layers import Flatten\n",
    "from keras.layers import Dense\n",
    "from keras.utils import np_utils\n",
    "import numpy as np"
   ]
  },
  {
   "cell_type": "code",
   "execution_count": 15,
   "metadata": {},
   "outputs": [],
   "source": [
    "# root_dir = \"\"\n",
    "categories = [\"top\", \"pants\"]\n",
    "nb_classes = len(categories)\n",
    "image_size = 64"
   ]
  },
  {
   "cell_type": "code",
   "execution_count": 16,
   "metadata": {},
   "outputs": [],
   "source": [
    "# 데이터 불러오기\n",
    "def load_dataset():\n",
    "  x_train, x_test, y_train, y_test = np.load(\"./clothes.npy\",allow_pickle=True)\n",
    "  x_train = x_train.astype(\"float\") / 256\n",
    "  x_test = x_test.astype(\"float\") / 256\n",
    "  y_train = np_utils.to_categorical(y_train, nb_classes)\n",
    "  y_test = np_utils.to_categorical(y_test, nb_classes)\n",
    "  return x_train, x_test, y_train, y_test"
   ]
  },
  {
   "cell_type": "code",
   "execution_count": 17,
   "metadata": {},
   "outputs": [],
   "source": [
    "# 모델 구성 (2) sigmoid\n",
    "#def build_model(in_shape):\n",
    "#  model = Sequential()\n",
    "#  model.add(Convolution2D(32, 3, 3, border_mode='same',\n",
    "#  input_shape=in_shape))\n",
    "#  model.add(Activation('sigmoid'))\n",
    "#  model.add(MaxPooling2D(pool_size=(2,2)))\n",
    "#  model.add(Dropout(0.25)) # dropout\n",
    "#  model.add(Convolution2D(64, 3, 3, border_mode='same'))\n",
    "#  model.add(Activation('sigmoid'))\n",
    "#  model.add(Convolution2D(64, 3, 3))\n",
    "#  model.add(MaxPooling2D(pool_size=(2,2)))\n",
    "#  # dropout\n",
    "#  model.add(Flatten())\n",
    "#  model.add(Dense(512))\n",
    "#  model.add(Activation('sigmoid'))\n",
    "#  # dropout\n",
    "#  model.add(Dense(nb_classes))\n",
    "#  model.add(Activation('softmax'))\n",
    "#  model.compile(loss='categorical_crossentropy',\n",
    "#                optimizer='adam',\n",
    "#                metrics=['accuracy'])\n",
    "#  return model"
   ]
  },
  {
   "cell_type": "code",
   "execution_count": 18,
   "metadata": {},
   "outputs": [],
   "source": [
    "# 모델 구성 (2)  relu\n",
    "def build_model(in_shape):\n",
    "  model = Sequential()\n",
    "  model.add(Convolution2D(32, 3, 3, border_mode='same',\n",
    "  input_shape=in_shape))\n",
    "  model.add(Activation('relu'))\n",
    "  model.add(MaxPooling2D(pool_size=(2,2)))\n",
    "  model.add(Dropout(0.25)) # dropout\n",
    "  model.add(Convolution2D(64, 3, 3, border_mode='same'))\n",
    "  model.add(Activation('relu'))\n",
    "  model.add(Convolution2D(64, 3, 3))\n",
    "  model.add(MaxPooling2D(pool_size=(2,2)))\n",
    "  # dropout\n",
    "  model.add(Flatten())\n",
    "  model.add(Dense(512))\n",
    "  model.add(Activation('relu'))\n",
    "  # dropout\n",
    "  model.add(Dense(nb_classes))\n",
    "  model.add(Activation('softmax'))\n",
    "  model.compile(loss='categorical_crossentropy',\n",
    "                optimizer='adam',\n",
    "                metrics=['accuracy'])\n",
    "  return model"
   ]
  },
  {
   "cell_type": "code",
   "execution_count": 19,
   "metadata": {},
   "outputs": [],
   "source": [
    "# 모델 학습을 수행하고 저장된 모델을 파일로 저장  \n",
    "def model_train(x, y):\n",
    "    model = build_model(x.shape[1:])\n",
    "    model.fit(x, y, batch_size=32, epochs=40)\n",
    "\n",
    "    return model"
   ]
  },
  {
   "cell_type": "code",
   "execution_count": 20,
   "metadata": {},
   "outputs": [],
   "source": [
    "# 모델 평가\n",
    "def model_eval(model, x, y):\n",
    "    score = model.evaluate(x, y)\n",
    "    print('loss=', score[0])\n",
    "    print('accuracy=', score[1])"
   ]
  },
  {
   "cell_type": "code",
   "execution_count": 21,
   "metadata": {
    "scrolled": false
   },
   "outputs": [
    {
     "name": "stdout",
     "output_type": "stream",
     "text": [
      "WARNING:tensorflow:From C:\\Python\\py\\Anaconda\\lib\\site-packages\\keras\\backend\\tensorflow_backend.py:4070: The name tf.nn.max_pool is deprecated. Please use tf.nn.max_pool2d instead.\n",
      "\n"
     ]
    },
    {
     "name": "stderr",
     "output_type": "stream",
     "text": [
      "C:\\Python\\py\\Anaconda\\lib\\site-packages\\ipykernel_launcher.py:5: UserWarning: Update your `Conv2D` call to the Keras 2 API: `Conv2D(32, (3, 3), input_shape=(64, 64, 3..., padding=\"same\")`\n",
      "  \"\"\"\n",
      "C:\\Python\\py\\Anaconda\\lib\\site-packages\\ipykernel_launcher.py:9: UserWarning: Update your `Conv2D` call to the Keras 2 API: `Conv2D(64, (3, 3), padding=\"same\")`\n",
      "  if __name__ == '__main__':\n",
      "C:\\Python\\py\\Anaconda\\lib\\site-packages\\ipykernel_launcher.py:11: UserWarning: Update your `Conv2D` call to the Keras 2 API: `Conv2D(64, (3, 3))`\n",
      "  # This is added back by InteractiveShellApp.init_path()\n"
     ]
    },
    {
     "name": "stdout",
     "output_type": "stream",
     "text": [
      "WARNING:tensorflow:From C:\\Python\\py\\Anaconda\\lib\\site-packages\\keras\\backend\\tensorflow_backend.py:422: The name tf.global_variables is deprecated. Please use tf.compat.v1.global_variables instead.\n",
      "\n",
      "Epoch 1/50\n",
      "1422/1422 [==============================] - 15s 10ms/step - loss: 0.9631 - accuracy: 0.6505\n",
      "Epoch 2/50\n",
      "1422/1422 [==============================] - 13s 9ms/step - loss: 0.4037 - accuracy: 0.8200\n",
      "Epoch 3/50\n",
      "1422/1422 [==============================] - 14s 10ms/step - loss: 0.2886 - accuracy: 0.8776\n",
      "Epoch 4/50\n",
      "1422/1422 [==============================] - 14s 10ms/step - loss: 0.2328 - accuracy: 0.9037\n",
      "Epoch 5/50\n",
      "1422/1422 [==============================] - 14s 10ms/step - loss: 0.1865 - accuracy: 0.9255\n",
      "Epoch 6/50\n",
      "1422/1422 [==============================] - 14s 10ms/step - loss: 0.1687 - accuracy: 0.9395\n",
      "Epoch 7/50\n",
      "1422/1422 [==============================] - 13s 9ms/step - loss: 0.1734 - accuracy: 0.9283\n",
      "Epoch 8/50\n",
      "1422/1422 [==============================] - 13s 9ms/step - loss: 0.1319 - accuracy: 0.9473\n",
      "Epoch 9/50\n",
      "1422/1422 [==============================] - 13s 9ms/step - loss: 0.1212 - accuracy: 0.9543\n",
      "Epoch 10/50\n",
      "1422/1422 [==============================] - 14s 10ms/step - loss: 0.1144 - accuracy: 0.9557\n",
      "Epoch 11/50\n",
      "1422/1422 [==============================] - 14s 10ms/step - loss: 0.1417 - accuracy: 0.9416\n",
      "Epoch 12/50\n",
      "1422/1422 [==============================] - 14s 10ms/step - loss: 0.1456 - accuracy: 0.9487\n",
      "Epoch 13/50\n",
      "1422/1422 [==============================] - 13s 9ms/step - loss: 0.1256 - accuracy: 0.9494\n",
      "Epoch 14/50\n",
      "1422/1422 [==============================] - 13s 9ms/step - loss: 0.0850 - accuracy: 0.9648\n",
      "Epoch 15/50\n",
      "1422/1422 [==============================] - 13s 9ms/step - loss: 0.0665 - accuracy: 0.9705\n",
      "Epoch 16/50\n",
      "1422/1422 [==============================] - 13s 9ms/step - loss: 0.0646 - accuracy: 0.9775\n",
      "Epoch 17/50\n",
      "1422/1422 [==============================] - 14s 10ms/step - loss: 0.0458 - accuracy: 0.9845\n",
      "Epoch 18/50\n",
      "1422/1422 [==============================] - 14s 10ms/step - loss: 0.0531 - accuracy: 0.9803\n",
      "Epoch 19/50\n",
      "1422/1422 [==============================] - 13s 9ms/step - loss: 0.0434 - accuracy: 0.9859\n",
      "Epoch 20/50\n",
      "1422/1422 [==============================] - 13s 9ms/step - loss: 0.0407 - accuracy: 0.9817\n",
      "Epoch 21/50\n",
      "1422/1422 [==============================] - 13s 9ms/step - loss: 0.0381 - accuracy: 0.9859\n",
      "Epoch 22/50\n",
      "1422/1422 [==============================] - 13s 9ms/step - loss: 0.0251 - accuracy: 0.9923\n",
      "Epoch 23/50\n",
      "1422/1422 [==============================] - 13s 9ms/step - loss: 0.0168 - accuracy: 0.9937\n",
      "Epoch 24/50\n",
      "1422/1422 [==============================] - 13s 9ms/step - loss: 0.0128 - accuracy: 0.9965\n",
      "Epoch 25/50\n",
      "1422/1422 [==============================] - 13s 9ms/step - loss: 0.0148 - accuracy: 0.9937\n",
      "Epoch 26/50\n",
      "1422/1422 [==============================] - 14s 10ms/step - loss: 0.0222 - accuracy: 0.9916\n",
      "Epoch 27/50\n",
      "1422/1422 [==============================] - 14s 10ms/step - loss: 0.0133 - accuracy: 0.9958\n",
      "Epoch 28/50\n",
      "1422/1422 [==============================] - 13s 9ms/step - loss: 0.0134 - accuracy: 0.9951\n",
      "Epoch 29/50\n",
      "1422/1422 [==============================] - 13s 9ms/step - loss: 0.0170 - accuracy: 0.9965\n",
      "Epoch 30/50\n",
      "1422/1422 [==============================] - 13s 9ms/step - loss: 0.0111 - accuracy: 0.9965\n",
      "Epoch 31/50\n",
      "1422/1422 [==============================] - 13s 9ms/step - loss: 0.0063 - accuracy: 0.9986\n",
      "Epoch 32/50\n",
      "1422/1422 [==============================] - 13s 9ms/step - loss: 0.0048 - accuracy: 0.9972\n",
      "Epoch 33/50\n",
      "1422/1422 [==============================] - 14s 10ms/step - loss: 0.0048 - accuracy: 0.9993\n",
      "Epoch 34/50\n",
      "1422/1422 [==============================] - 14s 10ms/step - loss: 0.0161 - accuracy: 0.9944\n",
      "Epoch 35/50\n",
      "1422/1422 [==============================] - 14s 10ms/step - loss: 0.0332 - accuracy: 0.9845\n",
      "Epoch 36/50\n",
      "1422/1422 [==============================] - 14s 10ms/step - loss: 0.0147 - accuracy: 0.9951\n",
      "Epoch 37/50\n",
      "1422/1422 [==============================] - 14s 10ms/step - loss: 0.0089 - accuracy: 0.9958\n",
      "Epoch 38/50\n",
      "1422/1422 [==============================] - 14s 10ms/step - loss: 0.0138 - accuracy: 0.9951\n",
      "Epoch 39/50\n",
      "1422/1422 [==============================] - 13s 9ms/step - loss: 0.0143 - accuracy: 0.9937\n",
      "Epoch 40/50\n",
      "1422/1422 [==============================] - 13s 9ms/step - loss: 0.0157 - accuracy: 0.9951\n",
      "Epoch 41/50\n",
      "1422/1422 [==============================] - 14s 10ms/step - loss: 0.0059 - accuracy: 0.9986\n",
      "Epoch 42/50\n",
      "1422/1422 [==============================] - 15s 10ms/step - loss: 0.0017 - accuracy: 1.0000\n",
      "Epoch 43/50\n",
      "1422/1422 [==============================] - 14s 10ms/step - loss: 5.3003e-04 - accuracy: 1.0000\n",
      "Epoch 44/50\n",
      "1422/1422 [==============================] - 15s 10ms/step - loss: 0.0022 - accuracy: 0.9993\n",
      "Epoch 45/50\n",
      "1422/1422 [==============================] - 14s 10ms/step - loss: 0.0020 - accuracy: 0.9993\n",
      "Epoch 46/50\n",
      "1422/1422 [==============================] - 14s 10ms/step - loss: 0.0017 - accuracy: 1.0000\n",
      "Epoch 47/50\n",
      "1422/1422 [==============================] - 14s 10ms/step - loss: 4.1958e-04 - accuracy: 1.0000\n",
      "Epoch 48/50\n",
      "1422/1422 [==============================] - 14s 10ms/step - loss: 2.7808e-04 - accuracy: 1.0000\n",
      "Epoch 49/50\n",
      "1422/1422 [==============================] - 14s 10ms/step - loss: 2.2309e-04 - accuracy: 1.0000\n",
      "Epoch 50/50\n",
      "1422/1422 [==============================] - 13s 9ms/step - loss: 1.0489e-04 - accuracy: 1.0000\n",
      "475/475 [==============================] - 1s 2ms/step\n",
      "loss= 0.5295789048663879\n",
      "accuracy= 0.9494736790657043\n"
     ]
    }
   ],
   "source": [
    "# 모델 학습 및 평가\n",
    "x_train, x_test, y_train, y_test = load_dataset()\n",
    "model = model_train(x_train, y_train)\n",
    "model_eval(model, x_test, y_test)\n"
   ]
  },
  {
   "cell_type": "code",
   "execution_count": 22,
   "metadata": {},
   "outputs": [],
   "source": [
    "model.save(\"./clothes_model_1.h5\")"
   ]
  },
  {
   "cell_type": "code",
   "execution_count": 23,
   "metadata": {},
   "outputs": [],
   "source": [
    "## 모델 테스트 하기\n",
    "\n",
    "import sys, os\n",
    "from keras.models import Sequential\n",
    "from keras.layers import Convolution2D, MaxPooling2D\n",
    "from keras.layers import Activation, Dropout, Flatten, Dense\n",
    "from keras.utils import np_utils\n",
    "from keras.models import load_model\n",
    "from PIL import Image\n",
    "import numpy as np"
   ]
  },
  {
   "cell_type": "code",
   "execution_count": 24,
   "metadata": {},
   "outputs": [
    {
     "name": "stdout",
     "output_type": "stream",
     "text": [
      "./test_img/top(1).jpg\n",
      "./test_img/top(2).png\n",
      "./test_img/pants(1).jpg\n",
      "[[[[0.99609375 0.99609375 0.99609375]\n",
      "   [0.99609375 0.99609375 0.99609375]\n",
      "   [0.99609375 0.99609375 0.99609375]\n",
      "   ...\n",
      "   [0.99609375 0.99609375 0.99609375]\n",
      "   [0.99609375 0.99609375 0.99609375]\n",
      "   [0.99609375 0.99609375 0.99609375]]\n",
      "\n",
      "  [[0.99609375 0.99609375 0.99609375]\n",
      "   [0.99609375 0.99609375 0.99609375]\n",
      "   [0.99609375 0.99609375 0.99609375]\n",
      "   ...\n",
      "   [0.99609375 0.99609375 0.99609375]\n",
      "   [0.99609375 0.99609375 0.99609375]\n",
      "   [0.99609375 0.99609375 0.99609375]]\n",
      "\n",
      "  [[0.99609375 0.99609375 0.99609375]\n",
      "   [0.99609375 0.99609375 0.99609375]\n",
      "   [0.99609375 0.99609375 0.99609375]\n",
      "   ...\n",
      "   [0.99609375 0.99609375 0.99609375]\n",
      "   [0.99609375 0.99609375 0.99609375]\n",
      "   [0.99609375 0.99609375 0.99609375]]\n",
      "\n",
      "  ...\n",
      "\n",
      "  [[0.99609375 0.99609375 0.99609375]\n",
      "   [0.99609375 0.99609375 0.99609375]\n",
      "   [0.99609375 0.99609375 0.99609375]\n",
      "   ...\n",
      "   [0.99609375 0.99609375 0.99609375]\n",
      "   [0.99609375 0.99609375 0.99609375]\n",
      "   [0.99609375 0.99609375 0.99609375]]\n",
      "\n",
      "  [[0.99609375 0.99609375 0.99609375]\n",
      "   [0.99609375 0.99609375 0.99609375]\n",
      "   [0.99609375 0.99609375 0.99609375]\n",
      "   ...\n",
      "   [0.99609375 0.99609375 0.99609375]\n",
      "   [0.99609375 0.99609375 0.99609375]\n",
      "   [0.99609375 0.99609375 0.99609375]]\n",
      "\n",
      "  [[0.99609375 0.99609375 0.99609375]\n",
      "   [0.99609375 0.99609375 0.99609375]\n",
      "   [0.99609375 0.99609375 0.99609375]\n",
      "   ...\n",
      "   [0.99609375 0.99609375 0.99609375]\n",
      "   [0.99609375 0.99609375 0.99609375]\n",
      "   [0.99609375 0.99609375 0.99609375]]]\n",
      "\n",
      "\n",
      " [[[0.99609375 0.99609375 0.99609375]\n",
      "   [0.99609375 0.99609375 0.99609375]\n",
      "   [0.99609375 0.99609375 0.99609375]\n",
      "   ...\n",
      "   [0.99609375 0.99609375 0.99609375]\n",
      "   [0.99609375 0.99609375 0.99609375]\n",
      "   [0.99609375 0.99609375 0.99609375]]\n",
      "\n",
      "  [[0.99609375 0.99609375 0.99609375]\n",
      "   [0.99609375 0.99609375 0.99609375]\n",
      "   [0.99609375 0.99609375 0.99609375]\n",
      "   ...\n",
      "   [0.99609375 0.99609375 0.99609375]\n",
      "   [0.99609375 0.99609375 0.99609375]\n",
      "   [0.99609375 0.99609375 0.99609375]]\n",
      "\n",
      "  [[0.99609375 0.99609375 0.99609375]\n",
      "   [0.99609375 0.99609375 0.99609375]\n",
      "   [0.99609375 0.99609375 0.99609375]\n",
      "   ...\n",
      "   [0.99609375 0.99609375 0.99609375]\n",
      "   [0.99609375 0.99609375 0.99609375]\n",
      "   [0.99609375 0.99609375 0.99609375]]\n",
      "\n",
      "  ...\n",
      "\n",
      "  [[0.99609375 0.99609375 0.99609375]\n",
      "   [0.99609375 0.99609375 0.99609375]\n",
      "   [0.99609375 0.99609375 0.99609375]\n",
      "   ...\n",
      "   [0.99609375 0.99609375 0.99609375]\n",
      "   [0.99609375 0.99609375 0.99609375]\n",
      "   [0.99609375 0.99609375 0.99609375]]\n",
      "\n",
      "  [[0.99609375 0.99609375 0.99609375]\n",
      "   [0.99609375 0.99609375 0.99609375]\n",
      "   [0.99609375 0.99609375 0.99609375]\n",
      "   ...\n",
      "   [0.99609375 0.99609375 0.99609375]\n",
      "   [0.99609375 0.99609375 0.99609375]\n",
      "   [0.99609375 0.99609375 0.99609375]]\n",
      "\n",
      "  [[0.99609375 0.99609375 0.99609375]\n",
      "   [0.99609375 0.99609375 0.99609375]\n",
      "   [0.99609375 0.99609375 0.99609375]\n",
      "   ...\n",
      "   [0.99609375 0.99609375 0.99609375]\n",
      "   [0.99609375 0.99609375 0.99609375]\n",
      "   [0.99609375 0.99609375 0.99609375]]]\n",
      "\n",
      "\n",
      " [[[0.98828125 0.98828125 0.98828125]\n",
      "   [0.98828125 0.98828125 0.98828125]\n",
      "   [0.98828125 0.98828125 0.98828125]\n",
      "   ...\n",
      "   [0.98828125 0.98828125 0.98828125]\n",
      "   [0.98828125 0.98828125 0.98828125]\n",
      "   [0.98828125 0.98828125 0.98828125]]\n",
      "\n",
      "  [[0.98828125 0.98828125 0.98828125]\n",
      "   [0.98828125 0.98828125 0.98828125]\n",
      "   [0.98828125 0.98828125 0.98828125]\n",
      "   ...\n",
      "   [0.98828125 0.98828125 0.98828125]\n",
      "   [0.98828125 0.98828125 0.98828125]\n",
      "   [0.98828125 0.98828125 0.98828125]]\n",
      "\n",
      "  [[0.98828125 0.98828125 0.98828125]\n",
      "   [0.98828125 0.98828125 0.98828125]\n",
      "   [0.98828125 0.98828125 0.98828125]\n",
      "   ...\n",
      "   [0.98828125 0.98828125 0.98828125]\n",
      "   [0.98828125 0.98828125 0.98828125]\n",
      "   [0.98828125 0.98828125 0.98828125]]\n",
      "\n",
      "  ...\n",
      "\n",
      "  [[0.98828125 0.98828125 0.98828125]\n",
      "   [0.98828125 0.98828125 0.98828125]\n",
      "   [0.98828125 0.98828125 0.98828125]\n",
      "   ...\n",
      "   [0.98828125 0.98828125 0.98828125]\n",
      "   [0.98828125 0.98828125 0.98828125]\n",
      "   [0.98828125 0.98828125 0.98828125]]\n",
      "\n",
      "  [[0.98828125 0.98828125 0.98828125]\n",
      "   [0.98828125 0.98828125 0.98828125]\n",
      "   [0.98828125 0.98828125 0.98828125]\n",
      "   ...\n",
      "   [0.98828125 0.98828125 0.98828125]\n",
      "   [0.98828125 0.98828125 0.98828125]\n",
      "   [0.98828125 0.98828125 0.98828125]]\n",
      "\n",
      "  [[0.98828125 0.98828125 0.98828125]\n",
      "   [0.98828125 0.98828125 0.98828125]\n",
      "   [0.98828125 0.98828125 0.98828125]\n",
      "   ...\n",
      "   [0.98828125 0.98828125 0.98828125]\n",
      "   [0.98828125 0.98828125 0.98828125]\n",
      "   [0.98828125 0.98828125 0.98828125]]]]\n",
      "['./test_img/top(1).jpg', './test_img/top(2).png', './test_img/pants(1).jpg']\n"
     ]
    }
   ],
   "source": [
    "#데이터 불러오기\n",
    "\n",
    "img_files=[\"./test_img/top(1).jpg\",\n",
    "           \"./test_img/top(2).png\",\n",
    "          \"./test_img/pants(1).jpg\"]\n",
    "\n",
    "\n",
    "## 이미지 불러오기\n",
    "\n",
    "X=[]; files=[];\n",
    "\n",
    "for fname in img_files:\n",
    "    print(fname)\n",
    "    img=Image.open(fname)\n",
    "    img=img.convert(\"RGB\") #색깔\n",
    "    img= img.resize((image_width, image_height))\n",
    "    in_data=np.asarray(img)\n",
    "    in_data= in_data.astype(\"float\") /256\n",
    "    X.append(in_data)\n",
    "    files.append(fname)\n",
    "    \n",
    "X=np.array(X)    \n",
    "print(X)\n",
    "print(files)"
   ]
  },
  {
   "cell_type": "code",
   "execution_count": 25,
   "metadata": {},
   "outputs": [
    {
     "name": "stdout",
     "output_type": "stream",
     "text": [
      "입력 :  ./test_img/top(1).jpg\n",
      "예측 :   [ 1 ] pants  / score  1.0\n",
      "입력 :  ./test_img/top(2).png\n",
      "예측 :   [ 1 ] pants  / score  1.0\n",
      "입력 :  ./test_img/pants(1).jpg\n",
      "예측 :   [ 0 ] top  / score  1.0\n"
     ]
    }
   ],
   "source": [
    "#파일 읽어오기\n",
    "model=load_model(\"./clothes_model.h5\")\n",
    "\n",
    "#모델 예측\n",
    "pred=model.predict(X)\n",
    "\n",
    "#예측 출력\n",
    "for idx, p in enumerate(pred):\n",
    "    y=p.argmax()\n",
    "    print(\"입력 : \",files[idx])\n",
    "    print(\"예측 : \", \" [\", y, \"]\",\n",
    "          categories[y], \" / score \",p[y])"
   ]
  },
  {
   "cell_type": "code",
   "execution_count": null,
   "metadata": {},
   "outputs": [],
   "source": []
  }
 ],
 "metadata": {
  "colab": {
   "collapsed_sections": [],
   "name": "img_model.ipynb",
   "provenance": []
  },
  "kernelspec": {
   "display_name": "Python 3",
   "language": "python",
   "name": "python3"
  },
  "language_info": {
   "codemirror_mode": {
    "name": "ipython",
    "version": 3
   },
   "file_extension": ".py",
   "mimetype": "text/x-python",
   "name": "python",
   "nbconvert_exporter": "python",
   "pygments_lexer": "ipython3",
   "version": "3.7.3"
  }
 },
 "nbformat": 4,
 "nbformat_minor": 1
}
