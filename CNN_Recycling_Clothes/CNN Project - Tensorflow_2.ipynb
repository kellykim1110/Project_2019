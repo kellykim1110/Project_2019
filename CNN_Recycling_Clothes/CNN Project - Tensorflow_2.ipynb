{
 "cells": [
  {
   "cell_type": "code",
   "execution_count": 1,
   "metadata": {
    "colab": {},
    "colab_type": "code",
    "id": "jlLvj3d1VZxS"
   },
   "outputs": [],
   "source": [
    "import os, warnings\n",
    "\n",
    "warnings.filterwarnings(action='ignore')"
   ]
  },
  {
   "cell_type": "code",
   "execution_count": 2,
   "metadata": {
    "colab": {
     "base_uri": "https://localhost:8080/",
     "height": 85
    },
    "colab_type": "code",
    "executionInfo": {
     "elapsed": 1408,
     "status": "ok",
     "timestamp": 1571599985079,
     "user": {
      "displayName": "김봉수",
      "photoUrl": "",
      "userId": "13387137173273535318"
     },
     "user_tz": -540
    },
    "id": "R8MABdZsVd-i",
    "outputId": "939e097c-903b-4204-8a80-2dd522f6d51b"
   },
   "outputs": [
    {
     "name": "stderr",
     "output_type": "stream",
     "text": [
      "Using TensorFlow backend.\n"
     ]
    },
    {
     "name": "stdout",
     "output_type": "stream",
     "text": [
      "(1758, 64, 64, 3)\n",
      "(1758, 3)\n",
      "(586, 64, 64, 3)\n",
      "(586, 3)\n"
     ]
    }
   ],
   "source": [
    "import tensorflow as tf\n",
    "import numpy as np\n",
    "from keras.utils import np_utils\n",
    "\n",
    "categories = [\"top\", \"pants\",\"skirts\"]\n",
    "nb_classes = len(categories)\n",
    "\n",
    "# 데이터 불러오기\n",
    "def load_dataset():\n",
    "  x_train, x_test, y_train, y_test = np.load(\"clothes_2.npy\", allow_pickle=True)\n",
    "  x_train = x_train.astype(\"float\") / 256\n",
    "  x_test = x_test.astype(\"float\") / 256\n",
    "  y_train = np_utils.to_categorical(y_train, nb_classes)\n",
    "  y_test = np_utils.to_categorical(y_test, nb_classes)\n",
    "  return x_train, x_test, y_train, y_test\n",
    "\n",
    "X_train, X_test, y_train, y_test = load_dataset()\n",
    "\n",
    "print(X_train.shape)\n",
    "print(y_train.shape)\n",
    "print(X_test.shape)\n",
    "print(y_test.shape)"
   ]
  },
  {
   "cell_type": "code",
   "execution_count": 0,
   "metadata": {
    "colab": {},
    "colab_type": "code",
    "id": "vfGJMVmsl0uU"
   },
   "outputs": [],
   "source": [
    "# import keras\n",
    "\n",
    "# y_train = keras.utils.to_categorical(y_train, nb_classes)\n",
    "# y_test = keras.utils.to_categorical(y_test, nb_classes)\n",
    "\n",
    "# print(y_train.shape)\n",
    "# print(y_test.shape)"
   ]
  },
  {
   "cell_type": "code",
   "execution_count": 6,
   "metadata": {
    "colab": {},
    "colab_type": "code",
    "id": "idsNDPvrhzaT"
   },
   "outputs": [],
   "source": [
    "X = tf.placeholder(tf.float32, [None, 64, 64, 3])\n",
    "Y = tf.placeholder(tf.float32, [None, 3])\n",
    "keep_prob = tf.placeholder(tf.float32)"
   ]
  },
  {
   "cell_type": "code",
   "execution_count": 7,
   "metadata": {
    "colab": {
     "base_uri": "https://localhost:8080/",
     "height": 34
    },
    "colab_type": "code",
    "executionInfo": {
     "elapsed": 1373,
     "status": "ok",
     "timestamp": 1571599985083,
     "user": {
      "displayName": "김봉수",
      "photoUrl": "",
      "userId": "13387137173273535318"
     },
     "user_tz": -540
    },
    "id": "yVTek_mzqBSK",
    "outputId": "240aa9c2-0e9f-418b-9ad1-8ed32d5909ba"
   },
   "outputs": [
    {
     "name": "stdout",
     "output_type": "stream",
     "text": [
      "Tensor(\"Placeholder_3:0\", shape=(?, 64, 64, 3), dtype=float32)\n"
     ]
    }
   ],
   "source": [
    "print(X)"
   ]
  },
  {
   "cell_type": "code",
   "execution_count": 8,
   "metadata": {
    "colab": {
     "base_uri": "https://localhost:8080/",
     "height": 68
    },
    "colab_type": "code",
    "executionInfo": {
     "elapsed": 1737,
     "status": "ok",
     "timestamp": 1571599985460,
     "user": {
      "displayName": "김봉수",
      "photoUrl": "",
      "userId": "13387137173273535318"
     },
     "user_tz": -540
    },
    "id": "q_4d_4sGhYlD",
    "outputId": "a7e9472a-8faa-4b7e-f45d-4a04b3e12ff5"
   },
   "outputs": [
    {
     "name": "stdout",
     "output_type": "stream",
     "text": [
      "<tf.Variable 'Variable_1:0' shape=(3, 3, 3, 32) dtype=float32_ref>\n",
      "Tensor(\"Relu_1:0\", shape=(?, 64, 64, 32), dtype=float32)\n",
      "Tensor(\"MaxPool_1:0\", shape=(?, 32, 32, 32), dtype=float32)\n"
     ]
    }
   ],
   "source": [
    "W1 = tf.Variable(tf.random_normal([3, 3, 3, 32], stddev=0.01))\n",
    "L1 = tf.nn.conv2d(X, W1, strides=[1, 1, 1, 1], padding='SAME')\n",
    "L1 = tf.nn.relu(L1)\n",
    "\n",
    "print(W1)\n",
    "print(L1)\n",
    "\n",
    "L1 = tf.nn.max_pool(L1, ksize=[1, 2, 2, 1], strides=[1, 2, 2, 1], padding='SAME')\n",
    "print(L1)"
   ]
  },
  {
   "cell_type": "code",
   "execution_count": 9,
   "metadata": {
    "colab": {
     "base_uri": "https://localhost:8080/",
     "height": 68
    },
    "colab_type": "code",
    "executionInfo": {
     "elapsed": 1721,
     "status": "ok",
     "timestamp": 1571599985463,
     "user": {
      "displayName": "김봉수",
      "photoUrl": "",
      "userId": "13387137173273535318"
     },
     "user_tz": -540
    },
    "id": "7f1NrM7Gime7",
    "outputId": "0fabe94e-9a2b-4d33-c800-3ef495ba885a"
   },
   "outputs": [
    {
     "name": "stdout",
     "output_type": "stream",
     "text": [
      "<tf.Variable 'Variable_2:0' shape=(3, 3, 32, 64) dtype=float32_ref>\n",
      "Tensor(\"Relu_2:0\", shape=(?, 32, 32, 64), dtype=float32)\n",
      "Tensor(\"MaxPool_2:0\", shape=(?, 16, 16, 64), dtype=float32)\n"
     ]
    }
   ],
   "source": [
    "W2 = tf.Variable(tf.random_normal([3, 3, 32, 64], stddev=0.01))\n",
    "L2 = tf.nn.conv2d(L1, W2, strides=[1, 1, 1, 1], padding='SAME')\n",
    "L2 = tf.nn.relu(L2)\n",
    "\n",
    "print(W2)\n",
    "print(L2)\n",
    "\n",
    "L2 = tf.nn.max_pool(L2, ksize=[1, 2, 2, 1], strides=[1, 2, 2, 1], padding='SAME')\n",
    "print(L2)"
   ]
  },
  {
   "cell_type": "code",
   "execution_count": 10,
   "metadata": {
    "colab": {},
    "colab_type": "code",
    "id": "Qg1LOLTOftEu",
    "outputId": "d5d6444e-ba0c-49f7-b3ad-29e0f1d3290b"
   },
   "outputs": [
    {
     "name": "stdout",
     "output_type": "stream",
     "text": [
      "<tf.Variable 'Variable_3:0' shape=(3, 3, 64, 128) dtype=float32_ref>\n",
      "Tensor(\"Relu_3:0\", shape=(?, 16, 16, 128), dtype=float32)\n",
      "Tensor(\"MaxPool_3:0\", shape=(?, 16, 16, 128), dtype=float32)\n"
     ]
    }
   ],
   "source": [
    "W3 = tf.Variable(tf.random_normal([3, 3, 64, 128], stddev=0.01))\n",
    "L3 = tf.nn.conv2d(L2, W3, strides=[1, 1, 1, 1], padding='SAME')\n",
    "L3 = tf.nn.relu(L3)\n",
    "\n",
    "print(W3)\n",
    "print(L3)\n",
    "\n",
    "L3 = tf.nn.max_pool(L3, ksize=[1, 2, 2, 1], strides=[1, 1, 1, 1], padding='SAME')\n",
    "print(L3)"
   ]
  },
  {
   "cell_type": "code",
   "execution_count": 11,
   "metadata": {
    "colab": {},
    "colab_type": "code",
    "id": "UiWeOrtSftEy",
    "outputId": "97e463b2-cf4f-459c-89c2-165c013021fc"
   },
   "outputs": [
    {
     "name": "stdout",
     "output_type": "stream",
     "text": [
      "<tf.Variable 'Variable_4:0' shape=(3, 3, 128, 256) dtype=float32_ref>\n",
      "Tensor(\"Relu_4:0\", shape=(?, 16, 16, 256), dtype=float32)\n",
      "Tensor(\"MaxPool_4:0\", shape=(?, 16, 16, 256), dtype=float32)\n"
     ]
    }
   ],
   "source": [
    "W4 = tf.Variable(tf.random_normal([3, 3, 128, 256], stddev=0.01))\n",
    "L4 = tf.nn.conv2d(L3, W4, strides=[1, 1, 1, 1], padding='SAME')\n",
    "L4 = tf.nn.relu(L4)\n",
    "\n",
    "print(W4)\n",
    "print(L4)\n",
    "\n",
    "L4 = tf.nn.max_pool(L4, ksize=[1, 2, 2, 1], strides=[1, 1, 1, 1], padding='SAME')\n",
    "print(L4)"
   ]
  },
  {
   "cell_type": "code",
   "execution_count": 12,
   "metadata": {
    "colab": {
     "base_uri": "https://localhost:8080/",
     "height": 51
    },
    "colab_type": "code",
    "executionInfo": {
     "elapsed": 1708,
     "status": "ok",
     "timestamp": 1571599985464,
     "user": {
      "displayName": "김봉수",
      "photoUrl": "",
      "userId": "13387137173273535318"
     },
     "user_tz": -540
    },
    "id": "NbU_06Evjgz_",
    "outputId": "c172d3fe-0e39-49e0-c8ea-201edad8939f"
   },
   "outputs": [
    {
     "name": "stdout",
     "output_type": "stream",
     "text": [
      "WARNING:tensorflow:From <ipython-input-12-b65f85866675>:5: calling dropout (from tensorflow.python.ops.nn_ops) with keep_prob is deprecated and will be removed in a future version.\n",
      "Instructions for updating:\n",
      "Please use `rate` instead of `keep_prob`. Rate should be set to `rate = 1 - keep_prob`.\n",
      "<tf.Variable 'Variable_5:0' shape=(65536, 512) dtype=float32_ref>\n",
      "Tensor(\"dropout/mul_1:0\", shape=(?, 512), dtype=float32)\n"
     ]
    }
   ],
   "source": [
    "W5 = tf.Variable(tf.random_normal([16 * 16 * 256, 512], stddev=0.01))\n",
    "L5 = tf.reshape(L4, [-1, 16 * 16 * 256])\n",
    "L5 = tf.matmul(L5, W5)\n",
    "L5 = tf.nn.relu(L5)\n",
    "L5 = tf.nn.dropout(L5, keep_prob)\n",
    "\n",
    "print(W5)\n",
    "print(L5)"
   ]
  },
  {
   "cell_type": "code",
   "execution_count": 13,
   "metadata": {
    "colab": {
     "base_uri": "https://localhost:8080/",
     "height": 51
    },
    "colab_type": "code",
    "executionInfo": {
     "elapsed": 1696,
     "status": "ok",
     "timestamp": 1571599985466,
     "user": {
      "displayName": "김봉수",
      "photoUrl": "",
      "userId": "13387137173273535318"
     },
     "user_tz": -540
    },
    "id": "1DuD70Kij7V0",
    "outputId": "32f67968-5096-488d-dddb-be2d94abdaf4"
   },
   "outputs": [
    {
     "name": "stdout",
     "output_type": "stream",
     "text": [
      "<tf.Variable 'Variable_6:0' shape=(512, 3) dtype=float32_ref>\n",
      "Tensor(\"MatMul_1:0\", shape=(?, 3), dtype=float32)\n"
     ]
    }
   ],
   "source": [
    "W6 = tf.Variable(tf.random_normal([512, 3], stddev=0.01))\n",
    "\n",
    "print(W6)\n",
    "\n",
    "model = tf.matmul(L5, W6)\n",
    "\n",
    "print(model)"
   ]
  },
  {
   "cell_type": "code",
   "execution_count": 14,
   "metadata": {
    "colab": {},
    "colab_type": "code",
    "id": "TNDeAPoMkFTG"
   },
   "outputs": [],
   "source": [
    "cost = tf.reduce_mean(tf.nn.softmax_cross_entropy_with_logits_v2(logits=model,\n",
    "labels=Y))\n",
    "\n",
    "optimizer = tf.train.AdamOptimizer(0.001).minimize(cost)"
   ]
  },
  {
   "cell_type": "code",
   "execution_count": 15,
   "metadata": {
    "colab": {},
    "colab_type": "code",
    "id": "8CeR-yZZkMgO"
   },
   "outputs": [],
   "source": [
    "init = tf.global_variables_initializer() # 초기화\n",
    "sess = tf.Session() # 세션 연결\n",
    "sess.run(init) # 세션 초기화"
   ]
  },
  {
   "cell_type": "code",
   "execution_count": 16,
   "metadata": {
    "colab": {
     "base_uri": "https://localhost:8080/",
     "height": 34
    },
    "colab_type": "code",
    "executionInfo": {
     "elapsed": 3124,
     "status": "ok",
     "timestamp": 1571599986932,
     "user": {
      "displayName": "김봉수",
      "photoUrl": "",
      "userId": "13387137173273535318"
     },
     "user_tz": -540
    },
    "id": "sd_ShGS_mEuh",
    "outputId": "12fe4e39-1739-41f5-a567-8ba0e474397b"
   },
   "outputs": [
    {
     "name": "stdout",
     "output_type": "stream",
     "text": [
      "17\n"
     ]
    }
   ],
   "source": [
    "batch_size = 100\n",
    "\n",
    "total_batch = int(X_train.shape[0]/ batch_size)\n",
    "print(total_batch)\n",
    "\n",
    "epochs = 20"
   ]
  },
  {
   "cell_type": "code",
   "execution_count": 17,
   "metadata": {
    "colab": {},
    "colab_type": "code",
    "id": "WyUEzi_wmSD0"
   },
   "outputs": [],
   "source": [
    "# 다음 배치를 읽어오기 위한 next_batch 유틸리티 함수를 정의합니다.\n",
    "def next_batch(start, num, data, labels):\n",
    "    data_X = data[start:start+num]\n",
    "    data_y = labels[start:start+num]\n",
    "    return np.asarray(data_X), np.asarray(data_y)"
   ]
  },
  {
   "cell_type": "code",
   "execution_count": 18,
   "metadata": {
    "colab": {
     "base_uri": "https://localhost:8080/",
     "height": 51
    },
    "colab_type": "code",
    "executionInfo": {
     "elapsed": 3100,
     "status": "ok",
     "timestamp": 1571599986935,
     "user": {
      "displayName": "김봉수",
      "photoUrl": "",
      "userId": "13387137173273535318"
     },
     "user_tz": -540
    },
    "id": "-_EP1Iodmc1H",
    "outputId": "2bc74cd5-c934-4a73-9f3e-27c019c86ac0"
   },
   "outputs": [
    {
     "name": "stdout",
     "output_type": "stream",
     "text": [
      "(1758, 64, 64, 3) (1758, 3)\n",
      "(10, 64, 64, 3) (10, 3)\n"
     ]
    }
   ],
   "source": [
    "print(X_train.shape, y_train.shape)\n",
    "\n",
    "batch_X, batch_y = next_batch(0, 10, X_train, y_train)\n",
    "print(batch_X.shape, batch_y.shape)"
   ]
  },
  {
   "cell_type": "code",
   "execution_count": 19,
   "metadata": {
    "colab": {
     "base_uri": "https://localhost:8080/",
     "height": 1000
    },
    "colab_type": "code",
    "executionInfo": {
     "elapsed": 188103,
     "status": "ok",
     "timestamp": 1571600398231,
     "user": {
      "displayName": "김봉수",
      "photoUrl": "",
      "userId": "13387137173273535318"
     },
     "user_tz": -540
    },
    "id": "MqVOiXkBmjTA",
    "outputId": "6ec81757-1b0a-43c8-c520-36bbf673506e"
   },
   "outputs": [
    {
     "name": "stdout",
     "output_type": "stream",
     "text": [
      "전체 입력 데이터 : (1758, 64, 64, 3)\n",
      "전체 출력 데이터 : (1758, 3)\n",
      "data_step = 0, Avg. cost = 1.099\n",
      "data_step = 16, Avg. cost = 0.744\n",
      "epoch: 0 total.cost = 14.265\n",
      "data_step = 0, Avg. cost = 0.726\n",
      "data_step = 16, Avg. cost = 0.710\n",
      "epoch: 1 total.cost = 12.159\n",
      "data_step = 0, Avg. cost = 0.708\n",
      "data_step = 16, Avg. cost = 0.702\n",
      "epoch: 2 total.cost = 11.938\n",
      "data_step = 0, Avg. cost = 0.701\n",
      "data_step = 16, Avg. cost = 0.698\n",
      "epoch: 3 total.cost = 11.847\n",
      "data_step = 0, Avg. cost = 0.691\n",
      "data_step = 16, Avg. cost = 0.701\n",
      "epoch: 4 total.cost = 11.813\n",
      "data_step = 0, Avg. cost = 0.692\n",
      "data_step = 16, Avg. cost = 0.702\n",
      "epoch: 5 total.cost = 11.684\n",
      "data_step = 0, Avg. cost = 0.675\n",
      "data_step = 16, Avg. cost = 0.686\n",
      "epoch: 6 total.cost = 11.441\n",
      "data_step = 0, Avg. cost = 0.695\n",
      "data_step = 16, Avg. cost = 0.548\n",
      "epoch: 7 total.cost = 10.631\n",
      "data_step = 0, Avg. cost = 0.564\n",
      "data_step = 16, Avg. cost = 0.396\n",
      "epoch: 8 total.cost = 8.682\n",
      "data_step = 0, Avg. cost = 0.488\n",
      "data_step = 16, Avg. cost = 0.356\n",
      "epoch: 9 total.cost = 6.928\n",
      "data_step = 0, Avg. cost = 0.372\n",
      "data_step = 16, Avg. cost = 0.265\n",
      "epoch: 10 total.cost = 6.428\n",
      "data_step = 0, Avg. cost = 0.273\n",
      "data_step = 16, Avg. cost = 0.227\n",
      "epoch: 11 total.cost = 5.100\n",
      "data_step = 0, Avg. cost = 0.250\n",
      "data_step = 16, Avg. cost = 0.266\n",
      "epoch: 12 total.cost = 4.679\n",
      "data_step = 0, Avg. cost = 0.231\n",
      "data_step = 16, Avg. cost = 0.225\n",
      "epoch: 13 total.cost = 4.150\n",
      "data_step = 0, Avg. cost = 0.201\n",
      "data_step = 16, Avg. cost = 0.177\n",
      "epoch: 14 total.cost = 3.996\n",
      "data_step = 0, Avg. cost = 0.231\n",
      "data_step = 16, Avg. cost = 0.164\n",
      "epoch: 15 total.cost = 3.633\n",
      "data_step = 0, Avg. cost = 0.164\n",
      "data_step = 16, Avg. cost = 0.150\n",
      "epoch: 16 total.cost = 3.119\n",
      "data_step = 0, Avg. cost = 0.112\n",
      "data_step = 16, Avg. cost = 0.108\n",
      "epoch: 17 total.cost = 2.658\n",
      "data_step = 0, Avg. cost = 0.122\n",
      "data_step = 16, Avg. cost = 0.098\n",
      "epoch: 18 total.cost = 2.606\n",
      "data_step = 0, Avg. cost = 0.150\n",
      "data_step = 16, Avg. cost = 0.076\n",
      "epoch: 19 total.cost = 2.377\n"
     ]
    }
   ],
   "source": [
    "total_cost = 0\n",
    "\n",
    "print(\"전체 입력 데이터 : {}\".format(X_train.shape))\n",
    "print(\"전체 출력 데이터 : {}\".format(y_train.shape))\n",
    "\n",
    "for epoch in range(epochs):\n",
    "    total_cost = 0\n",
    "  \n",
    "    for i in range(total_batch):\n",
    "        batch_Xs, batch_ys = next_batch(batch_size*i, batch_size, X_train, y_train)\n",
    "    \n",
    "        _, cost_val = sess.run([optimizer, cost], feed_dict={X: batch_Xs, Y: batch_ys, keep_prob: 0.2})\n",
    "        total_cost += cost_val\n",
    "    \n",
    "        if (i==0 or i==total_batch-1):\n",
    "              print('data_step = {}, Avg. cost = {:.3f}'.format(i, cost_val))\n",
    "\n",
    "    print('epoch: {} total.cost = {:.3f}'.format(epoch, total_cost))"
   ]
  },
  {
   "cell_type": "code",
   "execution_count": 20,
   "metadata": {
    "colab": {},
    "colab_type": "code",
    "id": "kyxBqltFnGxl"
   },
   "outputs": [
    {
     "name": "stdout",
     "output_type": "stream",
     "text": [
      "(586, 64, 64, 3) (586, 3)\n"
     ]
    }
   ],
   "source": [
    "print(X_test.shape, y_test.shape)"
   ]
  },
  {
   "cell_type": "code",
   "execution_count": 21,
   "metadata": {
    "colab": {},
    "colab_type": "code",
    "id": "MfVPniJ-sAmQ"
   },
   "outputs": [
    {
     "data": {
      "text/plain": [
       "<tf.Tensor 'MatMul_1:0' shape=(?, 3) dtype=float32>"
      ]
     },
     "execution_count": 21,
     "metadata": {},
     "output_type": "execute_result"
    }
   ],
   "source": [
    "model"
   ]
  },
  {
   "cell_type": "code",
   "execution_count": 22,
   "metadata": {
    "colab": {},
    "colab_type": "code",
    "id": "rEjqvQSzrnVk"
   },
   "outputs": [
    {
     "name": "stdout",
     "output_type": "stream",
     "text": [
      "정확도: 0.9596132\n"
     ]
    }
   ],
   "source": [
    "is_correct = tf.equal(tf.argmax(model, 1), tf.argmax(Y, 1))\n",
    "accuracy = tf.reduce_mean(tf.cast(is_correct, tf.float32))\n",
    "\n",
    "print('정확도:', sess.run(accuracy, feed_dict={X: X_train, Y: y_train, keep_prob: 1.}))"
   ]
  },
  {
   "cell_type": "code",
   "execution_count": 23,
   "metadata": {
    "colab": {},
    "colab_type": "code",
    "id": "JvvuwIocsThz"
   },
   "outputs": [
    {
     "name": "stdout",
     "output_type": "stream",
     "text": [
      "정확도: 0.8976109\n"
     ]
    }
   ],
   "source": [
    "is_correct = tf.equal(tf.argmax(model, 1), tf.argmax(Y, 1))\n",
    "accuracy = tf.reduce_mean(tf.cast(is_correct, tf.float32))\n",
    "\n",
    "print('정확도:', sess.run(accuracy, feed_dict={X: X_test, Y: y_test, keep_prob: 1.}))"
   ]
  },
  {
   "cell_type": "code",
   "execution_count": 0,
   "metadata": {
    "colab": {},
    "colab_type": "code",
    "id": "6_f47yI0ftFg"
   },
   "outputs": [],
   "source": []
  }
 ],
 "metadata": {
  "accelerator": "GPU",
  "colab": {
   "collapsed_sections": [],
   "name": "CNN Project - Tensorflow_1.ipynb",
   "provenance": []
  },
  "kernelspec": {
   "display_name": "Python 3",
   "language": "python",
   "name": "python3"
  },
  "language_info": {
   "codemirror_mode": {
    "name": "ipython",
    "version": 3
   },
   "file_extension": ".py",
   "mimetype": "text/x-python",
   "name": "python",
   "nbconvert_exporter": "python",
   "pygments_lexer": "ipython3",
   "version": "3.6.9"
  }
 },
 "nbformat": 4,
 "nbformat_minor": 1
}
