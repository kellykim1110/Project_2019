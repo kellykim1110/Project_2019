{
 "cells": [
  {
   "cell_type": "code",
   "execution_count": 0,
   "metadata": {
    "colab": {},
    "colab_type": "code",
    "id": "jlLvj3d1VZxS"
   },
   "outputs": [],
   "source": [
    "import os, warnings\n",
    "\n",
    "warnings.filterwarnings(action='ignore')"
   ]
  },
  {
   "cell_type": "code",
   "execution_count": 46,
   "metadata": {
    "colab": {
     "base_uri": "https://localhost:8080/",
     "height": 85
    },
    "colab_type": "code",
    "executionInfo": {
     "elapsed": 1408,
     "status": "ok",
     "timestamp": 1571599985079,
     "user": {
      "displayName": "김봉수",
      "photoUrl": "",
      "userId": "13387137173273535318"
     },
     "user_tz": -540
    },
    "id": "R8MABdZsVd-i",
    "outputId": "939e097c-903b-4204-8a80-2dd522f6d51b"
   },
   "outputs": [
    {
     "name": "stdout",
     "output_type": "stream",
     "text": [
      "(1422, 64, 64, 3)\n",
      "(1422, 2)\n",
      "(475, 64, 64, 3)\n",
      "(475, 2)\n"
     ]
    }
   ],
   "source": [
    "import tensorflow as tf\n",
    "import numpy as np\n",
    "from keras.utils import np_utils\n",
    "\n",
    "categories = [\"top\", \"pants\"]\n",
    "nb_classes = len(categories)\n",
    "\n",
    "# 데이터 불러오기\n",
    "def load_dataset():\n",
    "  x_train, x_test, y_train, y_test = np.load(\"clothes_1.npy\", allow_pickle=True)\n",
    "  x_train = x_train.astype(\"float\") / 256\n",
    "  x_test = x_test.astype(\"float\") / 256\n",
    "  y_train = np_utils.to_categorical(y_train, nb_classes)\n",
    "  y_test = np_utils.to_categorical(y_test, nb_classes)\n",
    "  return x_train, x_test, y_train, y_test\n",
    "\n",
    "X_train, X_test, y_train, y_test = load_dataset()\n",
    "\n",
    "print(X_train.shape)\n",
    "print(y_train.shape)\n",
    "print(X_test.shape)\n",
    "print(y_test.shape)"
   ]
  },
  {
   "cell_type": "code",
   "execution_count": 0,
   "metadata": {
    "colab": {},
    "colab_type": "code",
    "id": "vfGJMVmsl0uU"
   },
   "outputs": [],
   "source": [
    "# import keras\n",
    "\n",
    "# y_train = keras.utils.to_categorical(y_train, nb_classes)\n",
    "# y_test = keras.utils.to_categorical(y_test, nb_classes)\n",
    "\n",
    "# print(y_train.shape)\n",
    "# print(y_test.shape)"
   ]
  },
  {
   "cell_type": "code",
   "execution_count": 0,
   "metadata": {
    "colab": {},
    "colab_type": "code",
    "id": "idsNDPvrhzaT"
   },
   "outputs": [],
   "source": [
    "X = tf.placeholder(tf.float32, [None, 64, 64, 3])\n",
    "Y = tf.placeholder(tf.float32, [None, 2])\n",
    "keep_prob = tf.placeholder(tf.float32)"
   ]
  },
  {
   "cell_type": "code",
   "execution_count": 49,
   "metadata": {
    "colab": {
     "base_uri": "https://localhost:8080/",
     "height": 34
    },
    "colab_type": "code",
    "executionInfo": {
     "elapsed": 1373,
     "status": "ok",
     "timestamp": 1571599985083,
     "user": {
      "displayName": "김봉수",
      "photoUrl": "",
      "userId": "13387137173273535318"
     },
     "user_tz": -540
    },
    "id": "yVTek_mzqBSK",
    "outputId": "240aa9c2-0e9f-418b-9ad1-8ed32d5909ba"
   },
   "outputs": [
    {
     "name": "stdout",
     "output_type": "stream",
     "text": [
      "Tensor(\"Placeholder_6:0\", shape=(?, 64, 64, 3), dtype=float32)\n"
     ]
    }
   ],
   "source": [
    "print(X)"
   ]
  },
  {
   "cell_type": "code",
   "execution_count": 50,
   "metadata": {
    "colab": {
     "base_uri": "https://localhost:8080/",
     "height": 68
    },
    "colab_type": "code",
    "executionInfo": {
     "elapsed": 1737,
     "status": "ok",
     "timestamp": 1571599985460,
     "user": {
      "displayName": "김봉수",
      "photoUrl": "",
      "userId": "13387137173273535318"
     },
     "user_tz": -540
    },
    "id": "q_4d_4sGhYlD",
    "outputId": "a7e9472a-8faa-4b7e-f45d-4a04b3e12ff5"
   },
   "outputs": [
    {
     "name": "stdout",
     "output_type": "stream",
     "text": [
      "<tf.Variable 'Variable_9:0' shape=(3, 3, 3, 32) dtype=float32_ref>\n",
      "Tensor(\"Relu_6:0\", shape=(?, 64, 64, 32), dtype=float32)\n",
      "Tensor(\"MaxPool_4:0\", shape=(?, 32, 32, 32), dtype=float32)\n"
     ]
    }
   ],
   "source": [
    "W1 = tf.Variable(tf.random_normal([3, 3, 3, 32], stddev=0.01))\n",
    "L1 = tf.nn.conv2d(X, W1, strides=[1, 1, 1, 1], padding='SAME')\n",
    "L1 = tf.nn.relu(L1)\n",
    "\n",
    "print(W1)\n",
    "print(L1)\n",
    "\n",
    "L1 = tf.nn.max_pool(L1, ksize=[1, 2, 2, 1], strides=[1, 2, 2, 1], padding='SAME')\n",
    "print(L1)"
   ]
  },
  {
   "cell_type": "code",
   "execution_count": 51,
   "metadata": {
    "colab": {
     "base_uri": "https://localhost:8080/",
     "height": 68
    },
    "colab_type": "code",
    "executionInfo": {
     "elapsed": 1721,
     "status": "ok",
     "timestamp": 1571599985463,
     "user": {
      "displayName": "김봉수",
      "photoUrl": "",
      "userId": "13387137173273535318"
     },
     "user_tz": -540
    },
    "id": "7f1NrM7Gime7",
    "outputId": "0fabe94e-9a2b-4d33-c800-3ef495ba885a"
   },
   "outputs": [
    {
     "name": "stdout",
     "output_type": "stream",
     "text": [
      "<tf.Variable 'Variable_10:0' shape=(3, 3, 32, 64) dtype=float32_ref>\n",
      "Tensor(\"Relu_7:0\", shape=(?, 32, 32, 64), dtype=float32)\n",
      "Tensor(\"MaxPool_5:0\", shape=(?, 16, 16, 64), dtype=float32)\n"
     ]
    }
   ],
   "source": [
    "W2 = tf.Variable(tf.random_normal([3, 3, 32, 64], stddev=0.01))\n",
    "L2 = tf.nn.conv2d(L1, W2, strides=[1, 1, 1, 1], padding='SAME')\n",
    "L2 = tf.nn.relu(L2)\n",
    "\n",
    "print(W2)\n",
    "print(L2)\n",
    "\n",
    "L2 = tf.nn.max_pool(L2, ksize=[1, 2, 2, 1], strides=[1, 2, 2, 1], padding='SAME')\n",
    "print(L2)"
   ]
  },
  {
   "cell_type": "code",
   "execution_count": 52,
   "metadata": {
    "colab": {
     "base_uri": "https://localhost:8080/",
     "height": 51
    },
    "colab_type": "code",
    "executionInfo": {
     "elapsed": 1708,
     "status": "ok",
     "timestamp": 1571599985464,
     "user": {
      "displayName": "김봉수",
      "photoUrl": "",
      "userId": "13387137173273535318"
     },
     "user_tz": -540
    },
    "id": "NbU_06Evjgz_",
    "outputId": "c172d3fe-0e39-49e0-c8ea-201edad8939f"
   },
   "outputs": [
    {
     "name": "stdout",
     "output_type": "stream",
     "text": [
      "<tf.Variable 'Variable_11:0' shape=(16384, 256) dtype=float32_ref>\n",
      "Tensor(\"dropout_2/mul_1:0\", shape=(?, 256), dtype=float32)\n"
     ]
    }
   ],
   "source": [
    "W3 = tf.Variable(tf.random_normal([16 * 16 * 64, 256], stddev=0.01))\n",
    "L3 = tf.reshape(L2, [-1, 16 * 16 * 64])\n",
    "L3 = tf.matmul(L3, W3)\n",
    "L3 = tf.nn.relu(L3)\n",
    "L3 = tf.nn.dropout(L3, keep_prob)\n",
    "\n",
    "print(W3)\n",
    "print(L3)"
   ]
  },
  {
   "cell_type": "code",
   "execution_count": 53,
   "metadata": {
    "colab": {
     "base_uri": "https://localhost:8080/",
     "height": 51
    },
    "colab_type": "code",
    "executionInfo": {
     "elapsed": 1696,
     "status": "ok",
     "timestamp": 1571599985466,
     "user": {
      "displayName": "김봉수",
      "photoUrl": "",
      "userId": "13387137173273535318"
     },
     "user_tz": -540
    },
    "id": "1DuD70Kij7V0",
    "outputId": "32f67968-5096-488d-dddb-be2d94abdaf4"
   },
   "outputs": [
    {
     "name": "stdout",
     "output_type": "stream",
     "text": [
      "<tf.Variable 'Variable_12:0' shape=(256, 2) dtype=float32_ref>\n",
      "Tensor(\"MatMul_5:0\", shape=(?, 2), dtype=float32)\n"
     ]
    }
   ],
   "source": [
    "W4 = tf.Variable(tf.random_normal([256, 2], stddev=0.01))\n",
    "\n",
    "print(W4)\n",
    "\n",
    "model = tf.matmul(L3, W4)\n",
    "\n",
    "print(model)"
   ]
  },
  {
   "cell_type": "code",
   "execution_count": 0,
   "metadata": {
    "colab": {},
    "colab_type": "code",
    "id": "TNDeAPoMkFTG"
   },
   "outputs": [],
   "source": [
    "cost = tf.reduce_mean(tf.nn.softmax_cross_entropy_with_logits_v2(logits=model,\n",
    "labels=Y))\n",
    "\n",
    "optimizer = tf.train.AdamOptimizer(0.001).minimize(cost)"
   ]
  },
  {
   "cell_type": "code",
   "execution_count": 0,
   "metadata": {
    "colab": {},
    "colab_type": "code",
    "id": "8CeR-yZZkMgO"
   },
   "outputs": [],
   "source": [
    "init = tf.global_variables_initializer() # 초기화\n",
    "sess = tf.Session() # 세션 연결\n",
    "sess.run(init) # 세션 초기화"
   ]
  },
  {
   "cell_type": "code",
   "execution_count": 56,
   "metadata": {
    "colab": {
     "base_uri": "https://localhost:8080/",
     "height": 34
    },
    "colab_type": "code",
    "executionInfo": {
     "elapsed": 3124,
     "status": "ok",
     "timestamp": 1571599986932,
     "user": {
      "displayName": "김봉수",
      "photoUrl": "",
      "userId": "13387137173273535318"
     },
     "user_tz": -540
    },
    "id": "sd_ShGS_mEuh",
    "outputId": "12fe4e39-1739-41f5-a567-8ba0e474397b"
   },
   "outputs": [
    {
     "name": "stdout",
     "output_type": "stream",
     "text": [
      "14\n"
     ]
    }
   ],
   "source": [
    "batch_size = 100\n",
    "\n",
    "total_batch = int(X_train.shape[0]/ batch_size)\n",
    "print(total_batch)\n",
    "\n",
    "epochs = 20"
   ]
  },
  {
   "cell_type": "code",
   "execution_count": 0,
   "metadata": {
    "colab": {},
    "colab_type": "code",
    "id": "WyUEzi_wmSD0"
   },
   "outputs": [],
   "source": [
    "# 다음 배치를 읽어오기 위한 next_batch 유틸리티 함수를 정의합니다.\n",
    "def next_batch(start, num, data, labels):\n",
    "  data_X = data[start:start+num]\n",
    "  data_y = labels[start:start+num]\n",
    "  return np.asarray(data_X), np.asarray(data_y)"
   ]
  },
  {
   "cell_type": "code",
   "execution_count": 58,
   "metadata": {
    "colab": {
     "base_uri": "https://localhost:8080/",
     "height": 51
    },
    "colab_type": "code",
    "executionInfo": {
     "elapsed": 3100,
     "status": "ok",
     "timestamp": 1571599986935,
     "user": {
      "displayName": "김봉수",
      "photoUrl": "",
      "userId": "13387137173273535318"
     },
     "user_tz": -540
    },
    "id": "-_EP1Iodmc1H",
    "outputId": "2bc74cd5-c934-4a73-9f3e-27c019c86ac0"
   },
   "outputs": [
    {
     "name": "stdout",
     "output_type": "stream",
     "text": [
      "(1422, 64, 64, 3) (1422, 2)\n",
      "(10, 64, 64, 3) (10, 2)\n"
     ]
    }
   ],
   "source": [
    "print(X_train.shape, y_train.shape)\n",
    "\n",
    "batch_X, batch_y = next_batch(0, 10, X_train, y_train)\n",
    "print(batch_X.shape, batch_y.shape)"
   ]
  },
  {
   "cell_type": "code",
   "execution_count": 62,
   "metadata": {
    "colab": {
     "base_uri": "https://localhost:8080/",
     "height": 1000
    },
    "colab_type": "code",
    "executionInfo": {
     "elapsed": 188103,
     "status": "ok",
     "timestamp": 1571600398231,
     "user": {
      "displayName": "김봉수",
      "photoUrl": "",
      "userId": "13387137173273535318"
     },
     "user_tz": -540
    },
    "id": "MqVOiXkBmjTA",
    "outputId": "6ec81757-1b0a-43c8-c520-36bbf673506e"
   },
   "outputs": [
    {
     "name": "stdout",
     "output_type": "stream",
     "text": [
      "전체 입력 데이터 : (1422, 64, 64, 3)\n",
      "전체 출력 데이터 : (1422, 2)\n",
      "data_step = 0, Avg. cost = 0.693\n",
      "data_step = 13, Avg. cost = 0.607\n",
      "epoch: 0 total.cost = 9.243\n",
      "data_step = 0, Avg. cost = 0.634\n",
      "data_step = 13, Avg. cost = 0.580\n",
      "epoch: 1 total.cost = 8.866\n",
      "data_step = 0, Avg. cost = 0.600\n",
      "data_step = 13, Avg. cost = 0.340\n",
      "epoch: 2 total.cost = 7.057\n",
      "data_step = 0, Avg. cost = 0.423\n",
      "data_step = 13, Avg. cost = 0.278\n",
      "epoch: 3 total.cost = 5.418\n",
      "data_step = 0, Avg. cost = 0.431\n",
      "data_step = 13, Avg. cost = 0.202\n",
      "epoch: 4 total.cost = 4.568\n",
      "data_step = 0, Avg. cost = 0.336\n",
      "data_step = 13, Avg. cost = 0.223\n",
      "epoch: 5 total.cost = 4.100\n",
      "data_step = 0, Avg. cost = 0.266\n",
      "data_step = 13, Avg. cost = 0.160\n",
      "epoch: 6 total.cost = 3.428\n",
      "data_step = 0, Avg. cost = 0.265\n",
      "data_step = 13, Avg. cost = 0.201\n",
      "epoch: 7 total.cost = 3.192\n",
      "data_step = 0, Avg. cost = 0.220\n",
      "data_step = 13, Avg. cost = 0.159\n",
      "epoch: 8 total.cost = 3.030\n",
      "data_step = 0, Avg. cost = 0.217\n",
      "data_step = 13, Avg. cost = 0.170\n",
      "epoch: 9 total.cost = 2.958\n",
      "data_step = 0, Avg. cost = 0.101\n",
      "data_step = 13, Avg. cost = 0.179\n",
      "epoch: 10 total.cost = 2.585\n",
      "data_step = 0, Avg. cost = 0.174\n",
      "data_step = 13, Avg. cost = 0.185\n",
      "epoch: 11 total.cost = 2.368\n",
      "data_step = 0, Avg. cost = 0.157\n",
      "data_step = 13, Avg. cost = 0.103\n",
      "epoch: 12 total.cost = 2.285\n",
      "data_step = 0, Avg. cost = 0.180\n",
      "data_step = 13, Avg. cost = 0.091\n",
      "epoch: 13 total.cost = 1.866\n",
      "data_step = 0, Avg. cost = 0.114\n",
      "data_step = 13, Avg. cost = 0.093\n",
      "epoch: 14 total.cost = 1.848\n",
      "data_step = 0, Avg. cost = 0.190\n",
      "data_step = 13, Avg. cost = 0.074\n",
      "epoch: 15 total.cost = 1.955\n",
      "data_step = 0, Avg. cost = 0.152\n",
      "data_step = 13, Avg. cost = 0.102\n",
      "epoch: 16 total.cost = 1.636\n",
      "data_step = 0, Avg. cost = 0.160\n",
      "data_step = 13, Avg. cost = 0.092\n",
      "epoch: 17 total.cost = 1.674\n",
      "data_step = 0, Avg. cost = 0.133\n",
      "data_step = 13, Avg. cost = 0.071\n",
      "epoch: 18 total.cost = 1.730\n",
      "data_step = 0, Avg. cost = 0.155\n",
      "data_step = 13, Avg. cost = 0.055\n",
      "epoch: 19 total.cost = 1.599\n"
     ]
    }
   ],
   "source": [
    "total_cost = 0\n",
    "\n",
    "print(\"전체 입력 데이터 : {}\".format(X_train.shape))\n",
    "print(\"전체 출력 데이터 : {}\".format(y_train.shape))\n",
    "\n",
    "for epoch in range(epochs):\n",
    "  total_cost = 0\n",
    "  \n",
    "  for i in range(total_batch):\n",
    "    batch_Xs, batch_ys = next_batch(batch_size*i, batch_size, X_train, y_train)\n",
    "    \n",
    "    _, cost_val = sess.run([optimizer, cost], feed_dict={X: batch_Xs, Y: batch_ys, keep_prob: 0.2})\n",
    "    total_cost += cost_val\n",
    "    \n",
    "    if (i==0 or i==total_batch-1):\n",
    "      print('data_step = {}, Avg. cost = {:.3f}'.format(i, cost_val))\n",
    "\n",
    "  print('epoch: {} total.cost = {:.3f}'.format(epoch, total_cost))"
   ]
  },
  {
   "cell_type": "code",
   "execution_count": 63,
   "metadata": {
    "colab": {
     "base_uri": "https://localhost:8080/",
     "height": 34
    },
    "colab_type": "code",
    "executionInfo": {
     "elapsed": 843,
     "status": "ok",
     "timestamp": 1571600418590,
     "user": {
      "displayName": "김봉수",
      "photoUrl": "",
      "userId": "13387137173273535318"
     },
     "user_tz": -540
    },
    "id": "kyxBqltFnGxl",
    "outputId": "03dda78a-f82e-4d52-9ca6-4c253e1950b4"
   },
   "outputs": [
    {
     "name": "stdout",
     "output_type": "stream",
     "text": [
      "(475, 64, 64, 3) (475, 2)\n"
     ]
    }
   ],
   "source": [
    "print(X_test.shape, y_test.shape)"
   ]
  },
  {
   "cell_type": "code",
   "execution_count": 64,
   "metadata": {
    "colab": {
     "base_uri": "https://localhost:8080/",
     "height": 34
    },
    "colab_type": "code",
    "executionInfo": {
     "elapsed": 835,
     "status": "ok",
     "timestamp": 1571600471194,
     "user": {
      "displayName": "김봉수",
      "photoUrl": "",
      "userId": "13387137173273535318"
     },
     "user_tz": -540
    },
    "id": "MfVPniJ-sAmQ",
    "outputId": "cf83e322-fd83-46ae-e341-93afa69f15b8"
   },
   "outputs": [
    {
     "data": {
      "text/plain": [
       "<tf.Tensor 'MatMul_5:0' shape=(?, 2) dtype=float32>"
      ]
     },
     "execution_count": 64,
     "metadata": {
      "tags": []
     },
     "output_type": "execute_result"
    }
   ],
   "source": [
    "model"
   ]
  },
  {
   "cell_type": "code",
   "execution_count": 70,
   "metadata": {
    "colab": {
     "base_uri": "https://localhost:8080/",
     "height": 34
    },
    "colab_type": "code",
    "executionInfo": {
     "elapsed": 4754,
     "status": "ok",
     "timestamp": 1571600617695,
     "user": {
      "displayName": "김봉수",
      "photoUrl": "",
      "userId": "13387137173273535318"
     },
     "user_tz": -540
    },
    "id": "rEjqvQSzrnVk",
    "outputId": "22b01ad2-c378-4ca5-f106-e35105a801db"
   },
   "outputs": [
    {
     "name": "stdout",
     "output_type": "stream",
     "text": [
      "정확도: 0.9556962\n"
     ]
    }
   ],
   "source": [
    "is_correct = tf.equal(tf.argmax(model, 1), tf.argmax(Y, 1))\n",
    "accuracy = tf.reduce_mean(tf.cast(is_correct, tf.float32))\n",
    "\n",
    "print('정확도:', sess.run(accuracy, feed_dict={X: X_train, Y: y_train, keep_prob: 1.}))"
   ]
  },
  {
   "cell_type": "code",
   "execution_count": 71,
   "metadata": {
    "colab": {
     "base_uri": "https://localhost:8080/",
     "height": 34
    },
    "colab_type": "code",
    "executionInfo": {
     "elapsed": 1802,
     "status": "ok",
     "timestamp": 1571600649848,
     "user": {
      "displayName": "김봉수",
      "photoUrl": "",
      "userId": "13387137173273535318"
     },
     "user_tz": -540
    },
    "id": "JvvuwIocsThz",
    "outputId": "2c32f70c-eefd-40fc-f1ee-c9f85dddc89a"
   },
   "outputs": [
    {
     "name": "stdout",
     "output_type": "stream",
     "text": [
      "정확도: 0.9410526\n"
     ]
    }
   ],
   "source": [
    "is_correct = tf.equal(tf.argmax(model, 1), tf.argmax(Y, 1))\n",
    "accuracy = tf.reduce_mean(tf.cast(is_correct, tf.float32))\n",
    "\n",
    "print('정확도:', sess.run(accuracy, feed_dict={X: X_test, Y: y_test, keep_prob: 1.}))"
   ]
  },
  {
   "cell_type": "code",
   "execution_count": 0,
   "metadata": {
    "colab": {},
    "colab_type": "code",
    "id": "98gqG3QMsscL"
   },
   "outputs": [],
   "source": []
  }
 ],
 "metadata": {
  "colab": {
   "collapsed_sections": [],
   "name": "CNN Project - Tensorflow.ipynb",
   "provenance": []
  },
  "kernelspec": {
   "display_name": "Python 3",
   "language": "python",
   "name": "python3"
  },
  "language_info": {
   "codemirror_mode": {
    "name": "ipython",
    "version": 3
   },
   "file_extension": ".py",
   "mimetype": "text/x-python",
   "name": "python",
   "nbconvert_exporter": "python",
   "pygments_lexer": "ipython3",
   "version": "3.7.3"
  }
 },
 "nbformat": 4,
 "nbformat_minor": 1
}
